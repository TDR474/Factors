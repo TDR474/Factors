{
 "cells": [
  {
   "cell_type": "code",
   "execution_count": 46,
   "metadata": {
    "code_folding": [
     0
    ]
   },
   "outputs": [],
   "source": [
    "# 1 Initial Setup\n",
    "import datetime\n",
    "import numpy as np\n",
    "import pandas as pd\n",
    "import time\n",
    "from jqdata import *\n",
    "from pandas import Series, DataFrame\n",
    "import matplotlib.pyplot as plt\n",
    "import seaborn as sns\n",
    "import itertools\n",
    "import copy\n",
    "import pickle\n",
    "\n",
    "%matplotlib inline\n",
    "\n",
    "# 定义类'参数分析'\n",
    "class parameter_analysis(object):\n",
    "    \n",
    "    # 定义函数中不同的变量\n",
    "    def __init__(self, algorithm_id=None):\n",
    "        self.algorithm_id = algorithm_id            # 回测id\n",
    "        \n",
    "        self.params_df = pd.DataFrame()             # 回测中所有调参备选值的内容，列名字为对应修改面两名称，对应回测中的 g.XXXX\n",
    "        self.results = {}                           # 回测结果的回报率，key 为 params_df 的行序号，value 为\n",
    "        self.evaluations = {}                       # 回测结果的各项指标，key 为 params_df 的行序号，value 为一个 dataframe\n",
    "        self.backtest_ids = {}                      # 回测结果的 id\n",
    "        \n",
    "        # 新加入的基准的回测结果 id，可以默认为空 ''，则使用回测中设定的基准\n",
    "        self.benchmark_id = 'f16629492d6b6f4040b2546262782c78'                      \n",
    "        \n",
    "        self.benchmark_returns = []                 # 新加入的基准的回测回报率\n",
    "        self.returns = {}                           # 记录所有回报率\n",
    "        self.excess_returns = {}                    # 记录超额收益率\n",
    "        self.log_returns = {}                       # 记录收益率的 log 值\n",
    "        self.log_excess_returns = {}                # 记录超额收益的 log 值\n",
    "        self.dates = []                             # 回测对应的所有日期\n",
    "        self.excess_max_drawdown = {}               # 计算超额收益的最大回撤\n",
    "        self.excess_annual_return = {}              # 计算超额收益率的年化指标\n",
    "        self.evaluations_df = pd.DataFrame()        # 记录各项回测指标，除日回报率外\n",
    "        self.failed_list= []\n",
    "    \n",
    "    # 定义排队运行多参数回测函数\n",
    "    def run_backtest(self,                          #\n",
    "                     algorithm_id=None,             # 回测策略id\n",
    "                     running_max=10,                # 回测中同时巡行最大回测数量\n",
    "                     start_date='2006-01-01',       # 回测的起始日期\n",
    "                     end_date='2016-11-30',         # 回测的结束日期\n",
    "                     frequency='day',               # 回测的运行频率\n",
    "                     initial_cash='1000000',        # 回测的初始持仓金额\n",
    "                     param_names=[],                # 回测中调整参数涉及的变量\n",
    "                     param_values=[],               # 回测中每个变量的备选参数值\n",
    "                     python_version = 3,            # 回测的python版本\n",
    "                     use_credit =False              # 是否允许消耗积分继续回测\n",
    "                     ):\n",
    "        # 当此处回测策略的 id 没有给出时，调用类输入的策略 id\n",
    "        if algorithm_id == None: algorithm_id=self.algorithm_id\n",
    "        \n",
    "        # 生成所有参数组合并加载到 df 中\n",
    "        # 包含了不同参数具体备选值的排列组合中一组参数的 tuple 的 list\n",
    "        param_combinations = list(itertools.product(*param_values))\n",
    "        # 生成一个 dataframe， 对应的列为每个调参的变量，每个值为调参对应的备选值\n",
    "        to_run_df = pd.DataFrame(param_combinations,dtype='object')\n",
    "        # 修改列名称为调参变量的名字\n",
    "        to_run_df.columns = param_names\n",
    "        \n",
    "        # 设定运行起始时间和保存格式\n",
    "        start = time.time()\n",
    "        # 记录结束的运行回测\n",
    "        finished_backtests = {}\n",
    "        # 记录运行中的回测\n",
    "        running_backtests = {}\n",
    "        # 计数器\n",
    "        pointer = 0\n",
    "        # 总运行回测数目，等于排列组合中的元素个数\n",
    "        total_backtest_num = len(param_combinations)\n",
    "        # 记录回测结果的回报率\n",
    "        all_results = {}\n",
    "        # 记录回测结果的各项指标\n",
    "        all_evaluations = {}\n",
    "        \n",
    "        # 在运行开始时显示\n",
    "        print(('【已完成|运行中|待运行】:'), end=' ')\n",
    "        \n",
    "        cannot_get = {} #获取失败 , 重试加一\n",
    "        \n",
    "        # 当运行回测开始后，如果没有全部运行完全的话：\n",
    "        while len(finished_backtests)<total_backtest_num:\n",
    "            # 显示运行、完成和待运行的回测个数\n",
    "            print(('[%s|%s|%s].' % (len(finished_backtests), \n",
    "                                   len(running_backtests), \n",
    "                                   (total_backtest_num-len(finished_backtests)-len(running_backtests)) )), end=' ')\n",
    "            # 记录当前运行中的空位数量\n",
    "            to_run = min(running_max-len(running_backtests), total_backtest_num-len(running_backtests)-len(finished_backtests))\n",
    "            # 把可用的空位进行跑回测\n",
    "            for i in range(pointer, pointer+to_run):\n",
    "                # 备选的参数排列组合的 df 中第 i 行变成 dict，每个 key 为列名字，value 为 df 中对应的值\n",
    "                params = to_run_df.iloc[i].to_dict()\n",
    "                # 记录策略回测结果的 id，调整参数 extras 使用 params 的内容\n",
    "                backtest = create_backtest(algorithm_id = algorithm_id,\n",
    "                                           start_date = start_date, \n",
    "                                           end_date = end_date, \n",
    "                                           frequency = frequency, \n",
    "                                           initial_cash = initial_cash, \n",
    "                                           extras = params, \n",
    "                                           # 再回测中把改参数的结果起一个名字，包含了所有涉及的变量参数值\n",
    "                                           name = str(params),\n",
    "                                           python_version = python_version,\n",
    "                                           use_credit = use_credit\n",
    "                                           )\n",
    "                # 记录运行中 i 回测的回测 id\n",
    "                running_backtests[i] = backtest\n",
    "            # 计数器计数运行完的数量    \n",
    "            pointer = pointer+to_run\n",
    "\n",
    "            # 获取回测结果\n",
    "            failed = []\n",
    "            finished = []\n",
    "            \n",
    "            # 对于运行中的回测，key 为 to_run_df 中所有排列组合中的序数\n",
    "            for key in list(running_backtests.keys()):\n",
    "                # 研究调用回测的结果，running_backtests[key] 为运行中保存的结果 id\n",
    "                try :\n",
    "                    back_id = running_backtests[key]\n",
    "                    bt = get_backtest(back_id)\n",
    "                    # 获得运行回测结果的状态，成功和失败都需要运行结束后返回，如果没有返回则运行没有结束\n",
    "                    status = bt.get_status()\n",
    "                    # 当运行回测失败\n",
    "                    if status == 'failed':\n",
    "                        # 失败 list 中记录对应的回测结果 id\n",
    "                        print('')\n",
    "                        print((str(params)+'回测失败 : https://www.joinquant.com/algorithm/backtest/detail?backtestId='+back_id))\n",
    "                        failed.append(key) \n",
    "                    # 当运行回测成功时\n",
    "                    elif status == 'done':\n",
    "                        # 成功 list 记录对应的回测结果 id，finish 仅记录运行成功的\n",
    "                        finished.append(key)\n",
    "                        # 回测回报率记录对应回测的回报率 dict， key to_run_df 中所有排列组合中的序数， value 为回报率的 dict\n",
    "                        # 每个 value 一个 list 每个对象为一个包含时间、日回报率和基准回报率的 dict\n",
    "                        all_results[key] = bt.get_results()\n",
    "                        # 回测回报率记录对应回测结果指标 dict， key to_run_df 中所有排列组合中的序数， value 为回测结果指标的 dataframe\n",
    "                        all_evaluations[key] = bt.get_risk()\n",
    "                            # 记录运行中回测结果 id 的 list 中删除失败的运行\n",
    "                        print('')\n",
    "                        print((str(params)+'回测成功 : https://www.joinquant.com/algorithm/backtest/detail?backtestId='+back_id))\n",
    "                except Exception as e:\n",
    "                    count = cannot_get.get( key)\n",
    "                    if not count :\n",
    "                        cannot_get[key] = 1\n",
    "                        count = 0\n",
    "                    elif count < 5:\n",
    "                        cannot_get[key] = count +1\n",
    "                    else :\n",
    "                        failed.append(key) \n",
    "                    print(\"获取回测信息{}失败，重试 {} 次 , 共 {} 次 \\n {} \".format(back_id, count ,5 ,e) )\n",
    "                    time.sleep(2)\n",
    "            # 记录运行中回测结果 id 的 list 中删除失败的运行\n",
    "            for key in failed:\n",
    "                finished_backtests[key] = running_backtests.pop(key)\n",
    "            # 在结束回测结果 dict 中记录运行成功的回测结果 id，同时在运行中的记录中删除该回测\n",
    "            for key in finished:\n",
    "                finished_backtests[key] = running_backtests.pop(key)\n",
    "#                 print (finished_backtests)\n",
    "            # 当一组同时运行的回测结束时报告时间\n",
    "            if len(finished_backtests) != 0 and len(finished_backtests) % running_max == 0 and to_run !=0:\n",
    "                # 记录当时时间\n",
    "                middle = time.time()\n",
    "                # 计算剩余时间，假设没工作量时间相等的话\n",
    "                remain_time = (middle - start) * (total_backtest_num - len(finished_backtests)) / len(finished_backtests)\n",
    "                # print 当前运行时间\n",
    "                print(('[已用%s时,尚余%s时,请不要关闭浏览器].' % (str(round((middle - start) / 60.0 / 60.0,3)), \n",
    "                                          str(round(remain_time / 60.0 / 60.0,3)))), end=' ')\n",
    "            self.failed_list  += failed\n",
    "            # 5秒钟后再跑一下\n",
    "            time.sleep(5) \n",
    "        # 记录结束时间\n",
    "        end = time.time() \n",
    "        print('')\n",
    "        print(('【回测完成】总用时：%s秒(即%s小时)。' % (str(int(end-start)), \n",
    "                                           str(round((end-start)/60.0/60.0,2)))), end=' ')\n",
    "#         print (to_run_df,all_results,all_evaluations,finished_backtests)\n",
    "        # 对应修改类内部对应\n",
    "#         to_run_df = {key:value for key,value in returns.items() if key not in faild}\n",
    "        self.params_df = to_run_df\n",
    "#         all_results = {key:value for key,value in all_results.items() if key not in faild}\n",
    "        self.results = all_results\n",
    "#         all_evaluations = {key:value for key,value in all_evaluations.items() if key not in faild}\n",
    "        self.evaluations = all_evaluations\n",
    "#         finished_backtests = {key:value for key,value in finished_backtests.items() if key not in faild}\n",
    "        self.backtest_ids = finished_backtests\n",
    "\n",
    "        \n",
    "    #7 最大回撤计算方法\n",
    "    def find_max_drawdown(self, returns):\n",
    "        # 定义最大回撤的变量\n",
    "        result = 0\n",
    "        # 记录最高的回报率点\n",
    "        historical_return = 0\n",
    "        # 遍历所有日期\n",
    "        for i in range(len(returns)):\n",
    "            # 最高回报率记录\n",
    "            historical_return = max(historical_return, returns[i])\n",
    "            # 最大回撤记录\n",
    "            drawdown = 1-(returns[i] + 1) / (historical_return + 1)\n",
    "            # 记录最大回撤\n",
    "            result = max(drawdown, result)\n",
    "        # 返回最大回撤值\n",
    "        return result\n",
    "\n",
    "    # log 收益、新基准下超额收益和相对与新基准的最大回撤\n",
    "    def organize_backtest_results(self, benchmark_id=None):\n",
    "        # 若新基准的回测结果 id 没给出\n",
    "        if benchmark_id==None:\n",
    "            # 使用默认的基准回报率，默认的基准在回测策略中设定\n",
    "            self.benchmark_returns = [x['benchmark_returns'] for x in self.results[0]]\n",
    "        # 当新基准指标给出后    \n",
    "        else:\n",
    "            # 基准使用新加入的基准回测结果\n",
    "            self.benchmark_returns = [x['returns'] for x in get_backtest(benchmark_id).get_results()]\n",
    "        # 回测日期为结果中记录的第一项对应的日期\n",
    "        self.dates = [x['time'] for x in self.results[0]]\n",
    "        \n",
    "        # 对应每个回测在所有备选回测中的顺序 （key），生成新数据\n",
    "        # 由 {key：{u'benchmark_returns': 0.022480100091729405,\n",
    "        #           u'returns': 0.03184566700000002,\n",
    "        #           u'time': u'2006-02-14'}} 格式转化为：\n",
    "        # {key: []} 格式，其中 list 为对应 date 的一个回报率 list\n",
    "        for key in list(self.results.keys()):\n",
    "            self.returns[key] = [x['returns'] for x in self.results[key]]\n",
    "        # 生成对于基准（或新基准）的超额收益率\n",
    "        for key in list(self.results.keys()):\n",
    "            self.excess_returns[key] = [(x+1)/(y+1)-1 for (x,y) in zip(self.returns[key], self.benchmark_returns)]\n",
    "        # 生成 log 形式的收益率\n",
    "        for key in list(self.results.keys()):\n",
    "            self.log_returns[key] = [log(x+1) for x in self.returns[key]]\n",
    "        # 生成超额收益率的 log 形式\n",
    "        for key in list(self.results.keys()):\n",
    "            self.log_excess_returns[key] = [log(x+1) for x in self.excess_returns[key]]\n",
    "        # 生成超额收益率的最大回撤\n",
    "        for key in list(self.results.keys()):\n",
    "            self.excess_max_drawdown[key] = self.find_max_drawdown(self.excess_returns[key])\n",
    "        # 生成年化超额收益率\n",
    "        for key in list(self.results.keys()):\n",
    "            self.excess_annual_return[key] = (self.excess_returns[key][-1]+1)**(252./float(len(self.dates)))-1\n",
    "        # 把调参数据中的参数组合 df 与对应结果的 df 进行合并\n",
    "        self.evaluations_df = pd.concat([self.params_df, pd.DataFrame(self.evaluations).T], axis=1)\n",
    "#         self.evaluations_df = \n",
    "\n",
    "    # 获取最总分析数据，调用排队回测函数和数据整理的函数    \n",
    "    def get_backtest_data(self,\n",
    "                          algorithm_id=None,                         # 回测策略id\n",
    "                          benchmark_id=None,                         # 新基准回测结果id\n",
    "                          file_name='results.pkl',                   # 保存结果的 pickle 文件名字\n",
    "                          running_max=10,                            # 最大同时运行回测数量\n",
    "                          start_date='2006-01-01',                   # 回测开始时间\n",
    "                          end_date='2016-11-30',                     # 回测结束日期\n",
    "                          frequency='day',                           # 回测的运行频率\n",
    "                          initial_cash='1000000',                    # 回测初始持仓资金\n",
    "                          param_names=[],                            # 回测需要测试的变量\n",
    "                          param_values=[],                           # 对应每个变量的备选参数\n",
    "                          python_version = 2,\n",
    "                          use_credit = False\n",
    "                          ):\n",
    "        # 调运排队回测函数，传递对应参数\n",
    "        self.run_backtest(algorithm_id=algorithm_id,\n",
    "                          running_max=running_max,\n",
    "                          start_date=start_date,\n",
    "                          end_date=end_date,\n",
    "                          frequency=frequency,\n",
    "                          initial_cash=initial_cash,\n",
    "                          param_names=param_names,\n",
    "                          param_values=param_values,\n",
    "                          python_version = python_version,\n",
    "                          use_credit = use_credit,\n",
    "                          )\n",
    "        # 回测结果指标中加入 log 收益率和超额收益率等指标\n",
    "        self.organize_backtest_results(benchmark_id)\n",
    "        # 生成 dict 保存所有结果。\n",
    "        results = {'returns':self.returns,\n",
    "                   'excess_returns':self.excess_returns,\n",
    "                   'log_returns':self.log_returns,\n",
    "                   'log_excess_returns':self.log_excess_returns,\n",
    "                   'dates':self.dates,\n",
    "                   'benchmark_returns':self.benchmark_returns,\n",
    "                   'evaluations':self.evaluations,\n",
    "                   'params_df':self.params_df,\n",
    "                   'backtest_ids':self.backtest_ids,\n",
    "                   'excess_max_drawdown':self.excess_max_drawdown,\n",
    "                   'excess_annual_return':self.excess_annual_return,\n",
    "                   'evaluations_df':self.evaluations_df,\n",
    "                    \"failed_list\" : self.failed_list}\n",
    "        # 保存 pickle 文件\n",
    "        pickle_file = open(file_name, 'wb')\n",
    "        pickle.dump(results, pickle_file)\n",
    "        pickle_file.close()\n",
    "\n",
    "    # 读取保存的 pickle 文件，赋予类中的对象名对应的保存内容    \n",
    "    def read_backtest_data(self, file_name='results.pkl'):\n",
    "        pickle_file = open(file_name, 'rb')\n",
    "        results = pickle.load(pickle_file)\n",
    "        self.returns = results['returns']\n",
    "        self.excess_returns = results['excess_returns']\n",
    "        self.log_returns = results['log_returns']\n",
    "        self.log_excess_returns = results['log_excess_returns']\n",
    "        self.dates = results['dates']\n",
    "        self.benchmark_returns = results['benchmark_returns']\n",
    "        self.evaluations = results['evaluations']\n",
    "        self.params_df = results['params_df']\n",
    "        self.backtest_ids = results['backtest_ids']\n",
    "        self.excess_max_drawdown = results['excess_max_drawdown']\n",
    "        self.excess_annual_return = results['excess_annual_return']\n",
    "        self.evaluations_df = results['evaluations_df']\n",
    "        self.failed_list =  results['failed_list']\n",
    "    # 回报率折线图    \n",
    "    def plot_returns(self):\n",
    "        # 通过figsize参数可以指定绘图对象的宽度和高度，单位为英寸；\n",
    "        fig = plt.figure(figsize=(20,8))\n",
    "        ax = fig.add_subplot(111)\n",
    "        # 作图\n",
    "        for key in list(self.returns.keys()):\n",
    "            ax.plot(list(range(len(self.returns[key]))), self.returns[key], label=key)\n",
    "        # 设定benchmark曲线并标记\n",
    "        ax.plot(list(range(len(self.benchmark_returns))), self.benchmark_returns, label='benchmark', c='k', linestyle='--') \n",
    "        ticks = [int(x) for x in np.linspace(0, len(self.dates)-1, 11)]\n",
    "        plt.xticks(ticks, [self.dates[i] for i in ticks])\n",
    "        # 设置图例样式\n",
    "        ax.legend(loc = 2, fontsize = 10)\n",
    "        # 设置y标签样式\n",
    "        ax.set_ylabel('returns',fontsize=20)\n",
    "        # 设置x标签样式\n",
    "        ax.set_yticklabels([str(x*100)+'% 'for x in ax.get_yticks()])\n",
    "        # 设置图片标题样式\n",
    "        ax.set_title(\"Strategy's performances with different parameters\", fontsize=21)\n",
    "        plt.xlim(0, len(self.returns[0]))\n",
    "\n",
    "    # 超额收益率图    \n",
    "    def plot_excess_returns(self):\n",
    "        # 通过figsize参数可以指定绘图对象的宽度和高度，单位为英寸；\n",
    "        fig = plt.figure(figsize=(20,8))\n",
    "        ax = fig.add_subplot(111)\n",
    "        # 作图\n",
    "        for key in list(self.returns.keys()):\n",
    "            ax.plot(list(range(len(self.excess_returns[key]))), self.excess_returns[key], label=key)\n",
    "        # 设定benchmark曲线并标记\n",
    "        ax.plot(list(range(len(self.benchmark_returns))), [0]*len(self.benchmark_returns), label='benchmark', c='k', linestyle='--')\n",
    "        ticks = [int(x) for x in np.linspace(0, len(self.dates)-1, 11)]\n",
    "        plt.xticks(ticks, [self.dates[i] for i in ticks])\n",
    "        # 设置图例样式\n",
    "        ax.legend(loc = 2, fontsize = 10)\n",
    "        # 设置y标签样式\n",
    "        ax.set_ylabel('excess returns',fontsize=20)\n",
    "        # 设置x标签样式\n",
    "        ax.set_yticklabels([str(x*100)+'% 'for x in ax.get_yticks()])\n",
    "        # 设置图片标题样式\n",
    "        ax.set_title(\"Strategy's performances with different parameters\", fontsize=21)\n",
    "        plt.xlim(0, len(self.excess_returns[0]))\n",
    "        \n",
    "    # log回报率图    \n",
    "    def plot_log_returns(self):\n",
    "        # 通过figsize参数可以指定绘图对象的宽度和高度，单位为英寸；\n",
    "        fig = plt.figure(figsize=(20,8))\n",
    "        ax = fig.add_subplot(111)\n",
    "        # 作图\n",
    "        for key in list(self.returns.keys()):\n",
    "            ax.plot(list(range(len(self.log_returns[key]))), self.log_returns[key], label=key)\n",
    "        # 设定benchmark曲线并标记\n",
    "        ax.plot(list(range(len(self.benchmark_returns))), [log(x+1) for x in self.benchmark_returns], label='benchmark', c='k', linestyle='--')\n",
    "        ticks = [int(x) for x in np.linspace(0, len(self.dates)-1, 11)]\n",
    "        plt.xticks(ticks, [self.dates[i] for i in ticks])\n",
    "        # 设置图例样式\n",
    "        ax.legend(loc = 2, fontsize = 10)\n",
    "        # 设置y标签样式\n",
    "        ax.set_ylabel('log returns',fontsize=20)\n",
    "        # 设置图片标题样式\n",
    "        ax.set_title(\"Strategy's performances with different parameters\", fontsize=21)\n",
    "        plt.xlim(0, len(self.log_returns[0]))\n",
    "    \n",
    "    # 超额收益率的 log 图\n",
    "    def plot_log_excess_returns(self):\n",
    "        # 通过figsize参数可以指定绘图对象的宽度和高度，单位为英寸；\n",
    "        fig = plt.figure(figsize=(20,8))\n",
    "        ax = fig.add_subplot(111)\n",
    "        # 作图\n",
    "        for key in list(self.returns.keys()):\n",
    "            ax.plot(list(range(len(self.log_excess_returns[key]))), self.log_excess_returns[key], label=key)\n",
    "        # 设定benchmark曲线并标记\n",
    "        ax.plot(list(range(len(self.benchmark_returns))), [0]*len(self.benchmark_returns), label='benchmark', c='k', linestyle='--')\n",
    "        ticks = [int(x) for x in np.linspace(0, len(self.dates)-1, 11)]\n",
    "        plt.xticks(ticks, [self.dates[i] for i in ticks])\n",
    "        # 设置图例样式\n",
    "        ax.legend(loc = 2, fontsize = 10)\n",
    "        # 设置y标签样式\n",
    "        ax.set_ylabel('log excess returns',fontsize=20)\n",
    "        # 设置图片标题样式\n",
    "        ax.set_title(\"Strategy's performances with different parameters\", fontsize=21)\n",
    "        plt.xlim(0, len(self.log_excess_returns[0]))\n",
    "\n",
    "        \n",
    "    # 回测的4个主要指标，包括总回报率、最大回撤夏普率和波动\n",
    "    def get_eval4_bar(self, sort_by=[]): \n",
    "        \n",
    "        sorted_params = self.params_df\n",
    "        for by in sort_by:\n",
    "            sorted_params = sorted_params.sort(by)\n",
    "        indices = sorted_params.index\n",
    "        indices = set(sorted_params.index)-set(self.failed_list)\n",
    "        fig = plt.figure(figsize=(20,7))\n",
    "\n",
    "        # 定义位置\n",
    "        ax1 = fig.add_subplot(221)\n",
    "        # 设定横轴为对应分位，纵轴为对应指标\n",
    "        ax1.bar(list(range(len(indices))), \n",
    "                [self.evaluations[x]['algorithm_return'] for x in indices], 0.6, label = 'Algorithm_return')\n",
    "        plt.xticks([x+0.3 for x in range(len(indices))], indices)\n",
    "        # 设置图例样式\n",
    "        ax1.legend(loc='best',fontsize=15)\n",
    "        # 设置y标签样式\n",
    "        ax1.set_ylabel('Algorithm_return', fontsize=15)\n",
    "        # 设置y标签样式\n",
    "        ax1.set_yticklabels([str(x*100)+'% 'for x in ax1.get_yticks()])\n",
    "        # 设置图片标题样式\n",
    "        ax1.set_title(\"Strategy's of Algorithm_return performances of different quantile\", fontsize=15)\n",
    "        # x轴范围\n",
    "        plt.xlim(0, len(indices))\n",
    "\n",
    "        # 定义位置\n",
    "        ax2 = fig.add_subplot(224)\n",
    "        # 设定横轴为对应分位，纵轴为对应指标\n",
    "        ax2.bar(list(range(len(indices))), \n",
    "                [self.evaluations[x]['max_drawdown'] for x in indices], 0.6, label = 'Max_drawdown')\n",
    "        plt.xticks([x+0.3 for x in range(len(indices))], indices)\n",
    "        # 设置图例样式\n",
    "        ax2.legend(loc='best',fontsize=15)\n",
    "        # 设置y标签样式\n",
    "        ax2.set_ylabel('Max_drawdown', fontsize=15)\n",
    "        # 设置x标签样式\n",
    "        ax2.set_yticklabels([str(x*100)+'% 'for x in ax2.get_yticks()])\n",
    "        # 设置图片标题样式\n",
    "        ax2.set_title(\"Strategy's of Max_drawdown performances of different quantile\", fontsize=15)\n",
    "        # x轴范围\n",
    "        plt.xlim(0, len(indices))\n",
    "\n",
    "        # 定义位置\n",
    "        ax3 = fig.add_subplot(223)\n",
    "        # 设定横轴为对应分位，纵轴为对应指标\n",
    "        ax3.bar(list(range(len(indices))),\n",
    "                [self.evaluations[x]['sharpe'] for x in indices], 0.6, label = 'Sharpe')\n",
    "        plt.xticks([x+0.3 for x in range(len(indices))], indices)\n",
    "        # 设置图例样式\n",
    "        ax3.legend(loc='best',fontsize=15)\n",
    "        # 设置y标签样式\n",
    "        ax3.set_ylabel('Sharpe', fontsize=15)\n",
    "        # 设置x标签样式\n",
    "        ax3.set_yticklabels([str(x*100)+'% 'for x in ax3.get_yticks()])\n",
    "        # 设置图片标题样式\n",
    "        ax3.set_title(\"Strategy's of Sharpe performances of different quantile\", fontsize=15)\n",
    "        # x轴范围\n",
    "        plt.xlim(0, len(indices))\n",
    "\n",
    "        # 定义位置\n",
    "        ax4 = fig.add_subplot(222)\n",
    "        # 设定横轴为对应分位，纵轴为对应指标\n",
    "        ax4.bar(list(range(len(indices))), \n",
    "                [self.evaluations[x]['algorithm_volatility'] for x in indices], 0.6, label = 'Algorithm_volatility')\n",
    "        plt.xticks([x+0.3 for x in range(len(indices))], indices)\n",
    "        # 设置图例样式\n",
    "        ax4.legend(loc='best',fontsize=15)\n",
    "        # 设置y标签样式\n",
    "        ax4.set_ylabel('Algorithm_volatility', fontsize=15)\n",
    "        # 设置x标签样式\n",
    "        ax4.set_yticklabels([str(x*100)+'% 'for x in ax4.get_yticks()])\n",
    "        # 设置图片标题样式\n",
    "        ax4.set_title(\"Strategy's of Algorithm_volatility performances of different quantile\", fontsize=15)\n",
    "        # x轴范围\n",
    "        plt.xlim(0, len(indices))\n",
    "        \n",
    "    #14 年化回报和最大回撤，正负双色表示\n",
    "    def get_eval(self, sort_by=[]):\n",
    "\n",
    "        sorted_params = self.params_df\n",
    "        for by in sort_by:\n",
    "            sorted_params = sorted_params.sort(by)\n",
    "        indices = sorted_params.index\n",
    "        indices = set(sorted_params.index)-set(self.failed_list)\n",
    "        # 大小\n",
    "        fig = plt.figure(figsize = (20, 8))\n",
    "        # 图1位置\n",
    "        ax = fig.add_subplot(111)\n",
    "        # 生成图超额收益率的最大回撤\n",
    "        ax.bar([x+0.3 for x in range(len(indices))],\n",
    "               [-self.evaluations[x]['max_drawdown'] for x in indices], color = '#32CD32',  \n",
    "                     width = 0.6, label = 'Max_drawdown', zorder=10)\n",
    "        # 图年化超额收益\n",
    "        ax.bar([x for x in range(len(indices))],\n",
    "               [self.evaluations[x]['annual_algo_return'] for x in indices], color = 'r', \n",
    "                     width = 0.6, label = 'Annual_return')\n",
    "        plt.xticks([x+0.3 for x in range(len(indices))], indices)\n",
    "        # 设置图例样式\n",
    "        ax.legend(loc='best',fontsize=15)\n",
    "        # 基准线\n",
    "        plt.plot([0, len(indices)], [0, 0], c='k', \n",
    "                 linestyle='--', label='zero')\n",
    "        # 设置图例样式\n",
    "        ax.legend(loc='best',fontsize=15)\n",
    "        # 设置y标签样式\n",
    "        ax.set_ylabel('Max_drawdown', fontsize=15)\n",
    "        # 设置x标签样式\n",
    "        ax.set_yticklabels([str(x*100)+'% 'for x in ax.get_yticks()])\n",
    "        # 设置图片标题样式\n",
    "        ax.set_title(\"Strategy's performances of different quantile\", fontsize=15)\n",
    "        #   设定x轴长度\n",
    "        plt.xlim(0, len(indices))\n",
    "\n",
    "\n",
    "    #14 超额收益的年化回报和最大回撤\n",
    "    # 加入新的benchmark后超额收益和\n",
    "    def get_excess_eval(self, sort_by=[]):\n",
    "\n",
    "        sorted_params = self.params_df\n",
    "        for by in sort_by:\n",
    "            sorted_params = sorted_params.sort(by)\n",
    "        indices = sorted_params.index\n",
    "        indices = set(sorted_params.index)-set(self.failed_list)\n",
    "        # 大小\n",
    "        fig = plt.figure(figsize = (20, 8))\n",
    "        # 图1位置\n",
    "        ax = fig.add_subplot(111)\n",
    "        # 生成图超额收益率的最大回撤\n",
    "        ax.bar([x+0.3 for x in range(len(indices))],\n",
    "               [-self.excess_max_drawdown[x] for x in indices], color = '#32CD32',  \n",
    "                     width = 0.6, label = 'Excess_max_drawdown')\n",
    "        # 图年化超额收益\n",
    "        ax.bar([x for x in range(len(indices))],\n",
    "               [self.excess_annual_return[x] for x in indices], color = 'r', \n",
    "                     width = 0.6, label = 'Excess_annual_return')\n",
    "        plt.xticks([x+0.3 for x in range(len(indices))], indices)\n",
    "        # 设置图例样式\n",
    "        ax.legend(loc='best',fontsize=15)\n",
    "        # 基准线\n",
    "        plt.plot([0, len(indices)], [0, 0], c='k', \n",
    "                 linestyle='--', label='zero')\n",
    "        # 设置图例样式\n",
    "        ax.legend(loc='best',fontsize=15)\n",
    "        # 设置y标签样式\n",
    "        ax.set_ylabel('Max_drawdown', fontsize=15)\n",
    "        # 设置x标签样式\n",
    "        ax.set_yticklabels([str(x*100)+'% 'for x in ax.get_yticks()])\n",
    "        # 设置图片标题样式\n",
    "        ax.set_title(\"Strategy's performances of different quantile\", fontsize=15)\n",
    "        #   设定x轴长度\n",
    "        plt.xlim(0, len(indices))\n",
    "        \n",
    "        \n",
    "        \n",
    "        "
   ]
  },
  {
   "cell_type": "code",
   "execution_count": 57,
   "metadata": {
    "code_folding": []
   },
   "outputs": [],
   "source": [
    "# 2. Strategy id \n",
    "pa = parameter_analysis('9802778aef0d9150cf419997d628da9a')"
   ]
  },
  {
   "cell_type": "code",
   "execution_count": 11,
   "metadata": {},
   "outputs": [],
   "source": [
    "# 3. Get factors\n",
    "from jqfactor import get_all_factors \n",
    "\n",
    "factors = get_all_factors()"
   ]
  },
  {
   "cell_type": "code",
   "execution_count": 12,
   "metadata": {},
   "outputs": [
    {
     "data": {
      "text/html": [
       "<div>\n",
       "<style scoped>\n",
       "    .dataframe tbody tr th:only-of-type {\n",
       "        vertical-align: middle;\n",
       "    }\n",
       "\n",
       "    .dataframe tbody tr th {\n",
       "        vertical-align: top;\n",
       "    }\n",
       "\n",
       "    .dataframe thead th {\n",
       "        text-align: right;\n",
       "    }\n",
       "</style>\n",
       "<table border=\"1\" class=\"dataframe\">\n",
       "  <thead>\n",
       "    <tr style=\"text-align: right;\">\n",
       "      <th></th>\n",
       "      <th>factor</th>\n",
       "      <th>factor_intro</th>\n",
       "      <th>category</th>\n",
       "      <th>category_intro</th>\n",
       "    </tr>\n",
       "  </thead>\n",
       "  <tbody>\n",
       "    <tr>\n",
       "      <th>0</th>\n",
       "      <td>administration_expense_ttm</td>\n",
       "      <td>管理费用TTM</td>\n",
       "      <td>basics</td>\n",
       "      <td>基础科目及衍生类因子</td>\n",
       "    </tr>\n",
       "    <tr>\n",
       "      <th>1</th>\n",
       "      <td>asset_impairment_loss_ttm</td>\n",
       "      <td>资产减值损失TTM</td>\n",
       "      <td>basics</td>\n",
       "      <td>基础科目及衍生类因子</td>\n",
       "    </tr>\n",
       "    <tr>\n",
       "      <th>2</th>\n",
       "      <td>cash_flow_to_price_ratio</td>\n",
       "      <td>现金流市值比</td>\n",
       "      <td>basics</td>\n",
       "      <td>基础科目及衍生类因子</td>\n",
       "    </tr>\n",
       "    <tr>\n",
       "      <th>3</th>\n",
       "      <td>circulating_market_cap</td>\n",
       "      <td>流通市值</td>\n",
       "      <td>basics</td>\n",
       "      <td>基础科目及衍生类因子</td>\n",
       "    </tr>\n",
       "    <tr>\n",
       "      <th>4</th>\n",
       "      <td>EBIT</td>\n",
       "      <td>息税前利润</td>\n",
       "      <td>basics</td>\n",
       "      <td>基础科目及衍生类因子</td>\n",
       "    </tr>\n",
       "    <tr>\n",
       "      <th>5</th>\n",
       "      <td>EBITDA</td>\n",
       "      <td>息税折旧摊销前利润</td>\n",
       "      <td>basics</td>\n",
       "      <td>基础科目及衍生类因子</td>\n",
       "    </tr>\n",
       "    <tr>\n",
       "      <th>6</th>\n",
       "      <td>financial_assets</td>\n",
       "      <td>金融资产</td>\n",
       "      <td>basics</td>\n",
       "      <td>基础科目及衍生类因子</td>\n",
       "    </tr>\n",
       "    <tr>\n",
       "      <th>7</th>\n",
       "      <td>financial_expense_ttm</td>\n",
       "      <td>财务费用TTM</td>\n",
       "      <td>basics</td>\n",
       "      <td>基础科目及衍生类因子</td>\n",
       "    </tr>\n",
       "    <tr>\n",
       "      <th>8</th>\n",
       "      <td>financial_liability</td>\n",
       "      <td>金融负债</td>\n",
       "      <td>basics</td>\n",
       "      <td>基础科目及衍生类因子</td>\n",
       "    </tr>\n",
       "    <tr>\n",
       "      <th>9</th>\n",
       "      <td>goods_sale_and_service_render_cash_ttm</td>\n",
       "      <td>销售商品提供劳务收到的现金</td>\n",
       "      <td>basics</td>\n",
       "      <td>基础科目及衍生类因子</td>\n",
       "    </tr>\n",
       "    <tr>\n",
       "      <th>10</th>\n",
       "      <td>gross_profit_ttm</td>\n",
       "      <td>毛利TTM</td>\n",
       "      <td>basics</td>\n",
       "      <td>基础科目及衍生类因子</td>\n",
       "    </tr>\n",
       "    <tr>\n",
       "      <th>11</th>\n",
       "      <td>interest_carry_current_liability</td>\n",
       "      <td>带息流动负债</td>\n",
       "      <td>basics</td>\n",
       "      <td>基础科目及衍生类因子</td>\n",
       "    </tr>\n",
       "    <tr>\n",
       "      <th>12</th>\n",
       "      <td>interest_free_current_liability</td>\n",
       "      <td>无息流动负债</td>\n",
       "      <td>basics</td>\n",
       "      <td>基础科目及衍生类因子</td>\n",
       "    </tr>\n",
       "    <tr>\n",
       "      <th>13</th>\n",
       "      <td>market_cap</td>\n",
       "      <td>市值</td>\n",
       "      <td>basics</td>\n",
       "      <td>基础科目及衍生类因子</td>\n",
       "    </tr>\n",
       "    <tr>\n",
       "      <th>14</th>\n",
       "      <td>net_debt</td>\n",
       "      <td>净债务</td>\n",
       "      <td>basics</td>\n",
       "      <td>基础科目及衍生类因子</td>\n",
       "    </tr>\n",
       "    <tr>\n",
       "      <th>15</th>\n",
       "      <td>net_finance_cash_flow_ttm</td>\n",
       "      <td>筹资活动现金流量净额TTM</td>\n",
       "      <td>basics</td>\n",
       "      <td>基础科目及衍生类因子</td>\n",
       "    </tr>\n",
       "    <tr>\n",
       "      <th>16</th>\n",
       "      <td>net_interest_expense</td>\n",
       "      <td>净利息费用</td>\n",
       "      <td>basics</td>\n",
       "      <td>基础科目及衍生类因子</td>\n",
       "    </tr>\n",
       "    <tr>\n",
       "      <th>17</th>\n",
       "      <td>net_invest_cash_flow_ttm</td>\n",
       "      <td>投资活动现金流量净额TTM</td>\n",
       "      <td>basics</td>\n",
       "      <td>基础科目及衍生类因子</td>\n",
       "    </tr>\n",
       "    <tr>\n",
       "      <th>18</th>\n",
       "      <td>net_operate_cash_flow_ttm</td>\n",
       "      <td>经营活动现金流量净额TTM</td>\n",
       "      <td>basics</td>\n",
       "      <td>基础科目及衍生类因子</td>\n",
       "    </tr>\n",
       "    <tr>\n",
       "      <th>19</th>\n",
       "      <td>net_profit_ttm</td>\n",
       "      <td>净利润TTM</td>\n",
       "      <td>basics</td>\n",
       "      <td>基础科目及衍生类因子</td>\n",
       "    </tr>\n",
       "    <tr>\n",
       "      <th>20</th>\n",
       "      <td>net_working_capital</td>\n",
       "      <td>净运营资本</td>\n",
       "      <td>basics</td>\n",
       "      <td>基础科目及衍生类因子</td>\n",
       "    </tr>\n",
       "    <tr>\n",
       "      <th>21</th>\n",
       "      <td>non_operating_net_profit_ttm</td>\n",
       "      <td>营业外收支净额TTM</td>\n",
       "      <td>basics</td>\n",
       "      <td>基础科目及衍生类因子</td>\n",
       "    </tr>\n",
       "    <tr>\n",
       "      <th>22</th>\n",
       "      <td>non_recurring_gain_loss</td>\n",
       "      <td>非经常性损益</td>\n",
       "      <td>basics</td>\n",
       "      <td>基础科目及衍生类因子</td>\n",
       "    </tr>\n",
       "    <tr>\n",
       "      <th>23</th>\n",
       "      <td>np_parent_company_owners_ttm</td>\n",
       "      <td>归属于母公司股东的净利润TTM</td>\n",
       "      <td>basics</td>\n",
       "      <td>基础科目及衍生类因子</td>\n",
       "    </tr>\n",
       "    <tr>\n",
       "      <th>24</th>\n",
       "      <td>OperateNetIncome</td>\n",
       "      <td>经营活动净收益</td>\n",
       "      <td>basics</td>\n",
       "      <td>基础科目及衍生类因子</td>\n",
       "    </tr>\n",
       "    <tr>\n",
       "      <th>25</th>\n",
       "      <td>operating_assets</td>\n",
       "      <td>经营性资产</td>\n",
       "      <td>basics</td>\n",
       "      <td>基础科目及衍生类因子</td>\n",
       "    </tr>\n",
       "    <tr>\n",
       "      <th>26</th>\n",
       "      <td>operating_cost_ttm</td>\n",
       "      <td>营业成本TTM</td>\n",
       "      <td>basics</td>\n",
       "      <td>基础科目及衍生类因子</td>\n",
       "    </tr>\n",
       "    <tr>\n",
       "      <th>27</th>\n",
       "      <td>operating_liability</td>\n",
       "      <td>经营性负债</td>\n",
       "      <td>basics</td>\n",
       "      <td>基础科目及衍生类因子</td>\n",
       "    </tr>\n",
       "    <tr>\n",
       "      <th>28</th>\n",
       "      <td>operating_profit_ttm</td>\n",
       "      <td>营业利润TTM</td>\n",
       "      <td>basics</td>\n",
       "      <td>基础科目及衍生类因子</td>\n",
       "    </tr>\n",
       "    <tr>\n",
       "      <th>29</th>\n",
       "      <td>operating_revenue_ttm</td>\n",
       "      <td>营业收入TTM</td>\n",
       "      <td>basics</td>\n",
       "      <td>基础科目及衍生类因子</td>\n",
       "    </tr>\n",
       "    <tr>\n",
       "      <th>...</th>\n",
       "      <td>...</td>\n",
       "      <td>...</td>\n",
       "      <td>...</td>\n",
       "      <td>...</td>\n",
       "    </tr>\n",
       "    <tr>\n",
       "      <th>230</th>\n",
       "      <td>liquidity</td>\n",
       "      <td>流动性因子</td>\n",
       "      <td>style</td>\n",
       "      <td>风险因子 - 风格因子</td>\n",
       "    </tr>\n",
       "    <tr>\n",
       "      <th>231</th>\n",
       "      <td>long_term_predicted_earnings_growth</td>\n",
       "      <td>预期长期盈利增长率</td>\n",
       "      <td>style</td>\n",
       "      <td>风险因子 - 风格因子</td>\n",
       "    </tr>\n",
       "    <tr>\n",
       "      <th>232</th>\n",
       "      <td>market_leverage</td>\n",
       "      <td>市场杠杆</td>\n",
       "      <td>style</td>\n",
       "      <td>风险因子 - 风格因子</td>\n",
       "    </tr>\n",
       "    <tr>\n",
       "      <th>233</th>\n",
       "      <td>momentum</td>\n",
       "      <td>动量因子</td>\n",
       "      <td>style</td>\n",
       "      <td>风险因子 - 风格因子</td>\n",
       "    </tr>\n",
       "    <tr>\n",
       "      <th>234</th>\n",
       "      <td>natural_log_of_market_cap</td>\n",
       "      <td>对数总市值</td>\n",
       "      <td>style</td>\n",
       "      <td>风险因子 - 风格因子</td>\n",
       "    </tr>\n",
       "    <tr>\n",
       "      <th>235</th>\n",
       "      <td>non_linear_size</td>\n",
       "      <td>非线性市值因子</td>\n",
       "      <td>style</td>\n",
       "      <td>风险因子 - 风格因子</td>\n",
       "    </tr>\n",
       "    <tr>\n",
       "      <th>236</th>\n",
       "      <td>predicted_earnings_to_price_ratio</td>\n",
       "      <td>预期市盈率</td>\n",
       "      <td>style</td>\n",
       "      <td>风险因子 - 风格因子</td>\n",
       "    </tr>\n",
       "    <tr>\n",
       "      <th>237</th>\n",
       "      <td>raw_beta</td>\n",
       "      <td>RAW BETA</td>\n",
       "      <td>style</td>\n",
       "      <td>风险因子 - 风格因子</td>\n",
       "    </tr>\n",
       "    <tr>\n",
       "      <th>238</th>\n",
       "      <td>relative_strength</td>\n",
       "      <td>相对强弱</td>\n",
       "      <td>style</td>\n",
       "      <td>风险因子 - 风格因子</td>\n",
       "    </tr>\n",
       "    <tr>\n",
       "      <th>239</th>\n",
       "      <td>residual_volatility</td>\n",
       "      <td>残差波动因子</td>\n",
       "      <td>style</td>\n",
       "      <td>风险因子 - 风格因子</td>\n",
       "    </tr>\n",
       "    <tr>\n",
       "      <th>240</th>\n",
       "      <td>sales_growth</td>\n",
       "      <td>5年营业收入增长率</td>\n",
       "      <td>style</td>\n",
       "      <td>风险因子 - 风格因子</td>\n",
       "    </tr>\n",
       "    <tr>\n",
       "      <th>241</th>\n",
       "      <td>share_turnover_monthly</td>\n",
       "      <td>月换手率</td>\n",
       "      <td>style</td>\n",
       "      <td>风险因子 - 风格因子</td>\n",
       "    </tr>\n",
       "    <tr>\n",
       "      <th>242</th>\n",
       "      <td>short_term_predicted_earnings_growth</td>\n",
       "      <td>预期短期盈利增长率</td>\n",
       "      <td>style</td>\n",
       "      <td>风险因子 - 风格因子</td>\n",
       "    </tr>\n",
       "    <tr>\n",
       "      <th>243</th>\n",
       "      <td>size</td>\n",
       "      <td>市值因子</td>\n",
       "      <td>style</td>\n",
       "      <td>风险因子 - 风格因子</td>\n",
       "    </tr>\n",
       "    <tr>\n",
       "      <th>244</th>\n",
       "      <td>boll_down</td>\n",
       "      <td>下轨线（布林线）指标</td>\n",
       "      <td>technical</td>\n",
       "      <td>技术指标因子</td>\n",
       "    </tr>\n",
       "    <tr>\n",
       "      <th>245</th>\n",
       "      <td>boll_up</td>\n",
       "      <td>上轨线（布林线）指标</td>\n",
       "      <td>technical</td>\n",
       "      <td>技术指标因子</td>\n",
       "    </tr>\n",
       "    <tr>\n",
       "      <th>246</th>\n",
       "      <td>EMA5</td>\n",
       "      <td>5日指数移动均线</td>\n",
       "      <td>technical</td>\n",
       "      <td>技术指标因子</td>\n",
       "    </tr>\n",
       "    <tr>\n",
       "      <th>247</th>\n",
       "      <td>EMAC10</td>\n",
       "      <td>10日指数移动均线</td>\n",
       "      <td>technical</td>\n",
       "      <td>技术指标因子</td>\n",
       "    </tr>\n",
       "    <tr>\n",
       "      <th>248</th>\n",
       "      <td>EMAC12</td>\n",
       "      <td>12日指数移动均线</td>\n",
       "      <td>technical</td>\n",
       "      <td>技术指标因子</td>\n",
       "    </tr>\n",
       "    <tr>\n",
       "      <th>249</th>\n",
       "      <td>EMAC120</td>\n",
       "      <td>120日指数移动均线</td>\n",
       "      <td>technical</td>\n",
       "      <td>技术指标因子</td>\n",
       "    </tr>\n",
       "    <tr>\n",
       "      <th>250</th>\n",
       "      <td>EMAC20</td>\n",
       "      <td>20日指数移动均线</td>\n",
       "      <td>technical</td>\n",
       "      <td>技术指标因子</td>\n",
       "    </tr>\n",
       "    <tr>\n",
       "      <th>251</th>\n",
       "      <td>EMAC26</td>\n",
       "      <td>26日指数移动均线</td>\n",
       "      <td>technical</td>\n",
       "      <td>技术指标因子</td>\n",
       "    </tr>\n",
       "    <tr>\n",
       "      <th>252</th>\n",
       "      <td>MAC10</td>\n",
       "      <td>10日移动均线</td>\n",
       "      <td>technical</td>\n",
       "      <td>技术指标因子</td>\n",
       "    </tr>\n",
       "    <tr>\n",
       "      <th>253</th>\n",
       "      <td>MAC120</td>\n",
       "      <td>120日移动均线</td>\n",
       "      <td>technical</td>\n",
       "      <td>技术指标因子</td>\n",
       "    </tr>\n",
       "    <tr>\n",
       "      <th>254</th>\n",
       "      <td>MAC20</td>\n",
       "      <td>20日移动均线</td>\n",
       "      <td>technical</td>\n",
       "      <td>技术指标因子</td>\n",
       "    </tr>\n",
       "    <tr>\n",
       "      <th>255</th>\n",
       "      <td>MAC5</td>\n",
       "      <td>5日移动均线</td>\n",
       "      <td>technical</td>\n",
       "      <td>技术指标因子</td>\n",
       "    </tr>\n",
       "    <tr>\n",
       "      <th>256</th>\n",
       "      <td>MAC60</td>\n",
       "      <td>60日移动均线</td>\n",
       "      <td>technical</td>\n",
       "      <td>技术指标因子</td>\n",
       "    </tr>\n",
       "    <tr>\n",
       "      <th>257</th>\n",
       "      <td>MACDC</td>\n",
       "      <td>平滑异同移动平均线</td>\n",
       "      <td>technical</td>\n",
       "      <td>技术指标因子</td>\n",
       "    </tr>\n",
       "    <tr>\n",
       "      <th>258</th>\n",
       "      <td>MFI14</td>\n",
       "      <td>资金流量指标</td>\n",
       "      <td>technical</td>\n",
       "      <td>技术指标因子</td>\n",
       "    </tr>\n",
       "    <tr>\n",
       "      <th>259</th>\n",
       "      <td>price_no_fq</td>\n",
       "      <td>不复权价格因子</td>\n",
       "      <td>technical</td>\n",
       "      <td>技术指标因子</td>\n",
       "    </tr>\n",
       "  </tbody>\n",
       "</table>\n",
       "<p>260 rows × 4 columns</p>\n",
       "</div>"
      ],
      "text/plain": [
       "                                     factor      ...       category_intro\n",
       "0                administration_expense_ttm      ...           基础科目及衍生类因子\n",
       "1                 asset_impairment_loss_ttm      ...           基础科目及衍生类因子\n",
       "2                  cash_flow_to_price_ratio      ...           基础科目及衍生类因子\n",
       "3                    circulating_market_cap      ...           基础科目及衍生类因子\n",
       "4                                      EBIT      ...           基础科目及衍生类因子\n",
       "5                                    EBITDA      ...           基础科目及衍生类因子\n",
       "6                          financial_assets      ...           基础科目及衍生类因子\n",
       "7                     financial_expense_ttm      ...           基础科目及衍生类因子\n",
       "8                       financial_liability      ...           基础科目及衍生类因子\n",
       "9    goods_sale_and_service_render_cash_ttm      ...           基础科目及衍生类因子\n",
       "10                         gross_profit_ttm      ...           基础科目及衍生类因子\n",
       "11         interest_carry_current_liability      ...           基础科目及衍生类因子\n",
       "12          interest_free_current_liability      ...           基础科目及衍生类因子\n",
       "13                               market_cap      ...           基础科目及衍生类因子\n",
       "14                                 net_debt      ...           基础科目及衍生类因子\n",
       "15                net_finance_cash_flow_ttm      ...           基础科目及衍生类因子\n",
       "16                     net_interest_expense      ...           基础科目及衍生类因子\n",
       "17                 net_invest_cash_flow_ttm      ...           基础科目及衍生类因子\n",
       "18                net_operate_cash_flow_ttm      ...           基础科目及衍生类因子\n",
       "19                           net_profit_ttm      ...           基础科目及衍生类因子\n",
       "20                      net_working_capital      ...           基础科目及衍生类因子\n",
       "21             non_operating_net_profit_ttm      ...           基础科目及衍生类因子\n",
       "22                  non_recurring_gain_loss      ...           基础科目及衍生类因子\n",
       "23             np_parent_company_owners_ttm      ...           基础科目及衍生类因子\n",
       "24                         OperateNetIncome      ...           基础科目及衍生类因子\n",
       "25                         operating_assets      ...           基础科目及衍生类因子\n",
       "26                       operating_cost_ttm      ...           基础科目及衍生类因子\n",
       "27                      operating_liability      ...           基础科目及衍生类因子\n",
       "28                     operating_profit_ttm      ...           基础科目及衍生类因子\n",
       "29                    operating_revenue_ttm      ...           基础科目及衍生类因子\n",
       "..                                      ...      ...                  ...\n",
       "230                               liquidity      ...          风险因子 - 风格因子\n",
       "231     long_term_predicted_earnings_growth      ...          风险因子 - 风格因子\n",
       "232                         market_leverage      ...          风险因子 - 风格因子\n",
       "233                                momentum      ...          风险因子 - 风格因子\n",
       "234               natural_log_of_market_cap      ...          风险因子 - 风格因子\n",
       "235                         non_linear_size      ...          风险因子 - 风格因子\n",
       "236       predicted_earnings_to_price_ratio      ...          风险因子 - 风格因子\n",
       "237                                raw_beta      ...          风险因子 - 风格因子\n",
       "238                       relative_strength      ...          风险因子 - 风格因子\n",
       "239                     residual_volatility      ...          风险因子 - 风格因子\n",
       "240                            sales_growth      ...          风险因子 - 风格因子\n",
       "241                  share_turnover_monthly      ...          风险因子 - 风格因子\n",
       "242    short_term_predicted_earnings_growth      ...          风险因子 - 风格因子\n",
       "243                                    size      ...          风险因子 - 风格因子\n",
       "244                               boll_down      ...               技术指标因子\n",
       "245                                 boll_up      ...               技术指标因子\n",
       "246                                    EMA5      ...               技术指标因子\n",
       "247                                  EMAC10      ...               技术指标因子\n",
       "248                                  EMAC12      ...               技术指标因子\n",
       "249                                 EMAC120      ...               技术指标因子\n",
       "250                                  EMAC20      ...               技术指标因子\n",
       "251                                  EMAC26      ...               技术指标因子\n",
       "252                                   MAC10      ...               技术指标因子\n",
       "253                                  MAC120      ...               技术指标因子\n",
       "254                                   MAC20      ...               技术指标因子\n",
       "255                                    MAC5      ...               技术指标因子\n",
       "256                                   MAC60      ...               技术指标因子\n",
       "257                                   MACDC      ...               技术指标因子\n",
       "258                                   MFI14      ...               技术指标因子\n",
       "259                             price_no_fq      ...               技术指标因子\n",
       "\n",
       "[260 rows x 4 columns]"
      ]
     },
     "execution_count": 12,
     "metadata": {},
     "output_type": "execute_result"
    }
   ],
   "source": [
    "# 3.5 change the data structure to list\n",
    "\n",
    "factor_list = factors['factor'].tolist()\n",
    "# get_mtss(['000001.XSHE', '000002.XSHE', '000099.XSHE'], '2015-03-25', '2016-01-25', fields=[\"date\", \"sec_code\", \"sec_value\", \"fin_buy_value\", \"sec_sell_value\"])\n",
    "\n",
    "factors"
   ]
  },
  {
   "cell_type": "code",
   "execution_count": 68,
   "metadata": {},
   "outputs": [
    {
     "data": {
      "text/plain": [
       "[['market_cap'],\n",
       " ['pe_ratio'],\n",
       " ['pb_ratio'],\n",
       " ['pcf_ratio'],\n",
       " ['turnover_ratio'],\n",
       " ['administration_expense'],\n",
       " ['market_cap', 'pe_ratio'],\n",
       " ['market_cap', 'pb_ratio'],\n",
       " ['market_cap', 'pcf_ratio'],\n",
       " ['market_cap', 'turnover_ratio']]"
      ]
     },
     "execution_count": 68,
     "metadata": {},
     "output_type": "execute_result"
    }
   ],
   "source": [
    "# 4.1 Building powersets \n",
    "\n",
    "# Here we are going to use best subset selection to find the strategy that maximizes the back-tested return \n",
    "factor_list_final = ['market_cap','pe_ratio' ,'pb_ratio','pcf_ratio','turnover_ratio','administration_expense']\n",
    "\n",
    "\n",
    "# building the power set of the list, that's 63 sublist of the list \n",
    "from itertools import chain, combinations\n",
    "\n",
    "def powerset(lst):\n",
    "    # The chain function concatenates iterators\n",
    "    # combinations(list, r) gives all combinations of the list with length r\n",
    "    return [list(subset) for subset in chain.from_iterable(combinations(lst, r) for r in range(1, len(lst) + 1))]\n",
    "\n",
    "factor_power_list = powerset(factor_list_final)\n",
    "factor_power_list[:10]\n"
   ]
  },
  {
   "cell_type": "code",
   "execution_count": 69,
   "metadata": {},
   "outputs": [
    {
     "name": "stderr",
     "output_type": "stream",
     "text": [
      "\r",
      "  0%|          | 0/63 [00:00<?, ?it/s]"
     ]
    },
    {
     "name": "stdout",
     "output_type": "stream",
     "text": [
      "['market_cap']\n",
      "【已完成|运行中|待运行】: [0|0|1]. [0|1|0]. [0|1|0]. [0|1|0]. [0|1|0]. [0|1|0]. [0|1|0]. [0|1|0]. [0|1|0]. [0|1|0]. [0|1|0]. \n",
      "{'factors': ['market_cap']}回测成功 : https://www.joinquant.com/algorithm/backtest/detail?backtestId=9141d9a8c470e49a0ba9c92793750adc\n"
     ]
    },
    {
     "name": "stderr",
     "output_type": "stream",
     "text": [
      "\r",
      "  2%|▏         | 1/63 [00:56<58:40, 56.78s/it]"
     ]
    },
    {
     "name": "stdout",
     "output_type": "stream",
     "text": [
      "\n",
      "【回测完成】总用时：56秒(即0.02小时)。 ['pe_ratio']\n",
      "【已完成|运行中|待运行】: [0|0|1]. [0|1|0]. [0|1|0]. [0|1|0]. [0|1|0]. [0|1|0]. [0|1|0]. [0|1|0]. [0|1|0]. \n",
      "{'factors': ['pe_ratio']}回测成功 : https://www.joinquant.com/algorithm/backtest/detail?backtestId=388f2335b67a7d3f8260493801e6b72e\n"
     ]
    },
    {
     "name": "stderr",
     "output_type": "stream",
     "text": [
      "\r",
      "  3%|▎         | 2/63 [01:43<54:35, 53.70s/it]"
     ]
    },
    {
     "name": "stdout",
     "output_type": "stream",
     "text": [
      "\n",
      "【回测完成】总用时：46秒(即0.01小时)。 ['pb_ratio']\n",
      "【已完成|运行中|待运行】: [0|0|1]. [0|1|0]. [0|1|0]. [0|1|0]. [0|1|0]. [0|1|0]. [0|1|0]. [0|1|0]. \n",
      "{'factors': ['pb_ratio']}回测成功 : https://www.joinquant.com/algorithm/backtest/detail?backtestId=59534d3c7d38e43f728944d31d05b343\n"
     ]
    },
    {
     "name": "stderr",
     "output_type": "stream",
     "text": [
      "\r",
      "  5%|▍         | 3/63 [02:24<50:02, 50.05s/it]"
     ]
    },
    {
     "name": "stdout",
     "output_type": "stream",
     "text": [
      "\n",
      "【回测完成】总用时：41秒(即0.01小时)。 ['pcf_ratio']\n",
      "【已完成|运行中|待运行】: [0|0|1]. [0|1|0]. [0|1|0]. [0|1|0]. [0|1|0]. [0|1|0]. [0|1|0]. [0|1|0]. \n",
      "{'factors': ['pcf_ratio']}回测成功 : https://www.joinquant.com/algorithm/backtest/detail?backtestId=9e1a7a3032c4356d3161ad36eb553f2d\n"
     ]
    },
    {
     "name": "stderr",
     "output_type": "stream",
     "text": [
      "\r",
      "  6%|▋         | 4/63 [03:06<46:40, 47.47s/it]"
     ]
    },
    {
     "name": "stdout",
     "output_type": "stream",
     "text": [
      "\n",
      "【回测完成】总用时：41秒(即0.01小时)。 ['turnover_ratio']\n",
      "【已完成|运行中|待运行】: [0|0|1]. [0|1|0]. [0|1|0]. [0|1|0]. [0|1|0]. [0|1|0]. [0|1|0]. [0|1|0]. \n",
      "{'factors': ['turnover_ratio']}回测成功 : https://www.joinquant.com/algorithm/backtest/detail?backtestId=ca3c0f049db4f78d48d543dcdff7570b\n"
     ]
    },
    {
     "name": "stderr",
     "output_type": "stream",
     "text": [
      "\r",
      "  8%|▊         | 5/63 [03:47<44:08, 45.66s/it]"
     ]
    },
    {
     "name": "stdout",
     "output_type": "stream",
     "text": [
      "\n",
      "【回测完成】总用时：41秒(即0.01小时)。 ['administration_expense']\n",
      "【已完成|运行中|待运行】: [0|0|1]. [0|1|0]. [0|1|0]. [0|1|0]. [0|1|0]. [0|1|0]. [0|1|0]. [0|1|0]. [0|1|0]. [0|1|0]. [0|1|0]. \n",
      "{'factors': ['administration_expense']}回测成功 : https://www.joinquant.com/algorithm/backtest/detail?backtestId=75f97f5ec580082922019a82a5901d19\n"
     ]
    },
    {
     "name": "stderr",
     "output_type": "stream",
     "text": [
      "\r",
      " 10%|▉         | 6/63 [04:44<46:31, 48.98s/it]"
     ]
    },
    {
     "name": "stdout",
     "output_type": "stream",
     "text": [
      "\n",
      "【回测完成】总用时：56秒(即0.02小时)。 ['market_cap', 'pe_ratio']\n",
      "【已完成|运行中|待运行】: [0|0|1]. [0|1|0]. [0|1|0]. [0|1|0]. [0|1|0]. [0|1|0]. [0|1|0]. [0|1|0]. [0|1|0]. \n",
      "{'factors': ['market_cap', 'pe_ratio']}回测成功 : https://www.joinquant.com/algorithm/backtest/detail?backtestId=ae4933384d3cd14d21f2a45dff0cd86d\n"
     ]
    },
    {
     "name": "stderr",
     "output_type": "stream",
     "text": [
      "\r",
      " 11%|█         | 7/63 [05:31<45:02, 48.26s/it]"
     ]
    },
    {
     "name": "stdout",
     "output_type": "stream",
     "text": [
      "\n",
      "【回测完成】总用时：46秒(即0.01小时)。 ['market_cap', 'pb_ratio']\n",
      "【已完成|运行中|待运行】: [0|0|1]. [0|1|0]. [0|1|0]. [0|1|0]. [0|1|0]. [0|1|0]. [0|1|0]. \n",
      "{'factors': ['market_cap', 'pb_ratio']}回测成功 : https://www.joinquant.com/algorithm/backtest/detail?backtestId=8cf2b5a7eab87d5a5e074cb798d1a0ee\n"
     ]
    },
    {
     "name": "stderr",
     "output_type": "stream",
     "text": [
      "\r",
      " 13%|█▎        | 8/63 [06:07<41:01, 44.75s/it]"
     ]
    },
    {
     "name": "stdout",
     "output_type": "stream",
     "text": [
      "\n",
      "【回测完成】总用时：36秒(即0.01小时)。 ['market_cap', 'pcf_ratio']\n",
      "【已完成|运行中|待运行】: [0|0|1]. [0|1|0]. [0|1|0]. [0|1|0]. [0|1|0]. [0|1|0]. [0|1|0]. [0|1|0]. \n",
      "{'factors': ['market_cap', 'pcf_ratio']}回测成功 : https://www.joinquant.com/algorithm/backtest/detail?backtestId=ca9d798fa41bd3e16b6c1bcac21cb31c\n"
     ]
    },
    {
     "name": "stderr",
     "output_type": "stream",
     "text": [
      "\r",
      " 14%|█▍        | 9/63 [06:49<39:23, 43.76s/it]"
     ]
    },
    {
     "name": "stdout",
     "output_type": "stream",
     "text": [
      "\n",
      "【回测完成】总用时：41秒(即0.01小时)。 ['market_cap', 'turnover_ratio']\n",
      "【已完成|运行中|待运行】: [0|0|1]. [0|1|0]. [0|1|0]. [0|1|0]. [0|1|0]. [0|1|0]. [0|1|0]. [0|1|0]. [0|1|0]. [0|1|0]. [0|1|0]. [0|1|0]. [0|1|0]. \n",
      "{'factors': ['market_cap', 'turnover_ratio']}回测成功 : https://www.joinquant.com/algorithm/backtest/detail?backtestId=6f0c5ecf91e04127996de3c0f774a8bd\n"
     ]
    },
    {
     "name": "stderr",
     "output_type": "stream",
     "text": [
      "\r",
      " 16%|█▌        | 10/63 [07:56<44:49, 50.75s/it]"
     ]
    },
    {
     "name": "stdout",
     "output_type": "stream",
     "text": [
      "\n",
      "【回测完成】总用时：67秒(即0.02小时)。 ['market_cap', 'administration_expense']\n",
      "【已完成|运行中|待运行】: [0|0|1]. [0|1|0]. [0|1|0]. [0|1|0]. [0|1|0]. [0|1|0]. [0|1|0]. [0|1|0]. [0|1|0]. \n",
      "{'factors': ['market_cap', 'administration_expense']}回测成功 : https://www.joinquant.com/algorithm/backtest/detail?backtestId=c4b8f89b8b24f417a4e50278813aa8f7\n"
     ]
    },
    {
     "name": "stderr",
     "output_type": "stream",
     "text": [
      "\r",
      " 17%|█▋        | 11/63 [08:42<42:55, 49.53s/it]"
     ]
    },
    {
     "name": "stdout",
     "output_type": "stream",
     "text": [
      "\n",
      "【回测完成】总用时：46秒(即0.01小时)。 ['pe_ratio', 'pb_ratio']\n",
      "【已完成|运行中|待运行】: [0|0|1]. [0|1|0]. [0|1|0]. [0|1|0]. [0|1|0]. [0|1|0]. [0|1|0]. [0|1|0]. [0|1|0]. [0|1|0]. [0|1|0]. \n",
      "{'factors': ['pe_ratio', 'pb_ratio']}回测成功 : https://www.joinquant.com/algorithm/backtest/detail?backtestId=3a164c92e297b406f626174dfa844b50\n"
     ]
    },
    {
     "name": "stderr",
     "output_type": "stream",
     "text": [
      "\r",
      " 19%|█▉        | 12/63 [09:39<43:56, 51.70s/it]"
     ]
    },
    {
     "name": "stdout",
     "output_type": "stream",
     "text": [
      "\n",
      "【回测完成】总用时：56秒(即0.02小时)。 ['pe_ratio', 'pcf_ratio']\n",
      "【已完成|运行中|待运行】: [0|0|1]. [0|1|0]. [0|1|0]. [0|1|0]. [0|1|0]. [0|1|0]. [0|1|0]. [0|1|0]. [0|1|0]. \n",
      "{'factors': ['pe_ratio', 'pcf_ratio']}回测成功 : https://www.joinquant.com/algorithm/backtest/detail?backtestId=a789a40d8df48376e940ff78cec6b98f\n"
     ]
    },
    {
     "name": "stderr",
     "output_type": "stream",
     "text": [
      "\r",
      " 21%|██        | 13/63 [10:26<41:49, 50.18s/it]"
     ]
    },
    {
     "name": "stdout",
     "output_type": "stream",
     "text": [
      "\n",
      "【回测完成】总用时：46秒(即0.01小时)。 ['pe_ratio', 'turnover_ratio']\n",
      "【已完成|运行中|待运行】: [0|0|1]. [0|1|0]. [0|1|0]. [0|1|0]. [0|1|0]. [0|1|0]. [0|1|0]. [0|1|0]. [0|1|0]. \n",
      "{'factors': ['pe_ratio', 'turnover_ratio']}回测成功 : https://www.joinquant.com/algorithm/backtest/detail?backtestId=4974278a780f3b144c8c00649a0a2bbd\n"
     ]
    },
    {
     "name": "stderr",
     "output_type": "stream",
     "text": [
      "\r",
      " 22%|██▏       | 14/63 [11:12<40:06, 49.11s/it]"
     ]
    },
    {
     "name": "stdout",
     "output_type": "stream",
     "text": [
      "\n",
      "【回测完成】总用时：46秒(即0.01小时)。 ['pe_ratio', 'administration_expense']\n",
      "【已完成|运行中|待运行】: [0|0|1]. [0|1|0]. [0|1|0]. [0|1|0]. [0|1|0]. [0|1|0]. [0|1|0]. [0|1|0]. [0|1|0]. [0|1|0]. [0|1|0]. [0|1|0]. \n",
      "{'factors': ['pe_ratio', 'administration_expense']}回测成功 : https://www.joinquant.com/algorithm/backtest/detail?backtestId=5a8e9b18226a4335ae82a96139fa71c2\n"
     ]
    },
    {
     "name": "stderr",
     "output_type": "stream",
     "text": [
      "\r",
      " 24%|██▍       | 15/63 [12:14<42:21, 52.96s/it]"
     ]
    },
    {
     "name": "stdout",
     "output_type": "stream",
     "text": [
      "\n",
      "【回测完成】总用时：61秒(即0.02小时)。 ['pb_ratio', 'pcf_ratio']\n",
      "【已完成|运行中|待运行】: [0|0|1]. [0|1|0]. [0|1|0]. [0|1|0]. [0|1|0]. [0|1|0]. [0|1|0]. [0|1|0]. [0|1|0]. [0|1|0]. [0|1|0]. [0|1|0]. \n",
      "{'factors': ['pb_ratio', 'pcf_ratio']}回测成功 : https://www.joinquant.com/algorithm/backtest/detail?backtestId=97cadf7e813395875be5f35e2f1050df\n"
     ]
    },
    {
     "name": "stderr",
     "output_type": "stream",
     "text": [
      "\r",
      " 25%|██▌       | 16/63 [13:16<43:36, 55.67s/it]"
     ]
    },
    {
     "name": "stdout",
     "output_type": "stream",
     "text": [
      "\n",
      "【回测完成】总用时：61秒(即0.02小时)。 ['pb_ratio', 'turnover_ratio']\n",
      "【已完成|运行中|待运行】: [0|0|1]. [0|1|0]. [0|1|0]. [0|1|0]. [0|1|0]. [0|1|0]. [0|1|0]. [0|1|0]. [0|1|0]. [0|1|0]. [0|1|0]. [0|1|0]. \n",
      "{'factors': ['pb_ratio', 'turnover_ratio']}回测成功 : https://www.joinquant.com/algorithm/backtest/detail?backtestId=4d59c5126f110174ffc72a9d06d46930\n"
     ]
    },
    {
     "name": "stderr",
     "output_type": "stream",
     "text": [
      "\r",
      " 27%|██▋       | 17/63 [14:18<44:06, 57.53s/it]"
     ]
    },
    {
     "name": "stdout",
     "output_type": "stream",
     "text": [
      "\n",
      "【回测完成】总用时：61秒(即0.02小时)。 ['pb_ratio', 'administration_expense']\n",
      "【已完成|运行中|待运行】: [0|0|1]. [0|1|0]. [0|1|0]. [0|1|0]. [0|1|0]. [0|1|0]. [0|1|0]. [0|1|0]. \n",
      "{'factors': ['pb_ratio', 'administration_expense']}回测成功 : https://www.joinquant.com/algorithm/backtest/detail?backtestId=dec6052eb638f9cbd38436b3a389b971\n"
     ]
    },
    {
     "name": "stderr",
     "output_type": "stream",
     "text": [
      "\r",
      " 29%|██▊       | 18/63 [15:00<39:31, 52.70s/it]"
     ]
    },
    {
     "name": "stdout",
     "output_type": "stream",
     "text": [
      "\n",
      "【回测完成】总用时：41秒(即0.01小时)。 ['pcf_ratio', 'turnover_ratio']\n",
      "【已完成|运行中|待运行】: [0|0|1]. [0|1|0]. [0|1|0]. [0|1|0]. [0|1|0]. [0|1|0]. [0|1|0]. [0|1|0]. \n",
      "{'factors': ['pcf_ratio', 'turnover_ratio']}回测成功 : https://www.joinquant.com/algorithm/backtest/detail?backtestId=a1f2cc3718a73189bebb12e854fa7e8a\n"
     ]
    },
    {
     "name": "stderr",
     "output_type": "stream",
     "text": [
      "\r",
      " 30%|███       | 19/63 [15:41<36:11, 49.35s/it]"
     ]
    },
    {
     "name": "stdout",
     "output_type": "stream",
     "text": [
      "\n",
      "【回测完成】总用时：41秒(即0.01小时)。 ['pcf_ratio', 'administration_expense']\n",
      "【已完成|运行中|待运行】: [0|0|1]. [0|1|0]. [0|1|0]. [0|1|0]. [0|1|0]. [0|1|0]. [0|1|0]. [0|1|0]. [0|1|0]. [0|1|0]. [0|1|0]. \n",
      "{'factors': ['pcf_ratio', 'administration_expense']}回测成功 : https://www.joinquant.com/algorithm/backtest/detail?backtestId=fee348c327f0020fdb38857fc0cf1bde\n"
     ]
    },
    {
     "name": "stderr",
     "output_type": "stream",
     "text": [
      "\r",
      " 32%|███▏      | 20/63 [16:38<36:58, 51.60s/it]"
     ]
    },
    {
     "name": "stdout",
     "output_type": "stream",
     "text": [
      "\n",
      "【回测完成】总用时：56秒(即0.02小时)。 ['turnover_ratio', 'administration_expense']\n",
      "【已完成|运行中|待运行】: [0|0|1]. [0|1|0]. [0|1|0]. [0|1|0]. [0|1|0]. [0|1|0]. [0|1|0]. [0|1|0]. [0|1|0]. \n",
      "{'factors': ['turnover_ratio', 'administration_expense']}回测成功 : https://www.joinquant.com/algorithm/backtest/detail?backtestId=c98127b40da25179b5bef497d588cfc5\n"
     ]
    },
    {
     "name": "stderr",
     "output_type": "stream",
     "text": [
      "\r",
      " 33%|███▎      | 21/63 [17:24<35:03, 50.08s/it]"
     ]
    },
    {
     "name": "stdout",
     "output_type": "stream",
     "text": [
      "\n",
      "【回测完成】总用时：46秒(即0.01小时)。 ['market_cap', 'pe_ratio', 'pb_ratio']\n",
      "【已完成|运行中|待运行】: [0|0|1]. [0|1|0]. [0|1|0]. [0|1|0]. [0|1|0]. [0|1|0]. [0|1|0]. [0|1|0]. \n",
      "{'factors': ['market_cap', 'pe_ratio', 'pb_ratio']}回测成功 : https://www.joinquant.com/algorithm/backtest/detail?backtestId=0ce8d7dac848837f4d2cc6e915abfeb6\n"
     ]
    },
    {
     "name": "stderr",
     "output_type": "stream",
     "text": [
      "\r",
      " 35%|███▍      | 22/63 [18:06<32:28, 47.52s/it]"
     ]
    },
    {
     "name": "stdout",
     "output_type": "stream",
     "text": [
      "\n",
      "【回测完成】总用时：41秒(即0.01小时)。 ['market_cap', 'pe_ratio', 'pcf_ratio']\n",
      "【已完成|运行中|待运行】: [0|0|1]. [0|1|0]. [0|1|0]. [0|1|0]. [0|1|0]. [0|1|0]. [0|1|0]. [0|1|0]. [0|1|0]. \n",
      "{'factors': ['market_cap', 'pe_ratio', 'pcf_ratio']}回测成功 : https://www.joinquant.com/algorithm/backtest/detail?backtestId=148a86a2ae472e73918bc7ca42fb9379\n"
     ]
    },
    {
     "name": "stderr",
     "output_type": "stream",
     "text": [
      "\r",
      " 37%|███▋      | 23/63 [18:53<31:29, 47.25s/it]"
     ]
    },
    {
     "name": "stdout",
     "output_type": "stream",
     "text": [
      "\n",
      "【回测完成】总用时：46秒(即0.01小时)。 ['market_cap', 'pe_ratio', 'turnover_ratio']\n",
      "【已完成|运行中|待运行】: [0|0|1]. [0|1|0]. [0|1|0]. [0|1|0]. [0|1|0]. [0|1|0]. [0|1|0]. [0|1|0]. \n",
      "{'factors': ['market_cap', 'pe_ratio', 'turnover_ratio']}回测成功 : https://www.joinquant.com/algorithm/backtest/detail?backtestId=e7b1808f9d9d2292f0ef6b9b0619a693\n"
     ]
    },
    {
     "name": "stderr",
     "output_type": "stream",
     "text": [
      "\r",
      " 38%|███▊      | 24/63 [19:34<29:36, 45.54s/it]"
     ]
    },
    {
     "name": "stdout",
     "output_type": "stream",
     "text": [
      "\n",
      "【回测完成】总用时：41秒(即0.01小时)。 ['market_cap', 'pe_ratio', 'administration_expense']\n",
      "【已完成|运行中|待运行】: [0|0|1]. [0|1|0]. [0|1|0]. [0|1|0]. [0|1|0]. [0|1|0]. [0|1|0]. \n",
      "{'factors': ['market_cap', 'pe_ratio', 'administration_expense']}回测成功 : https://www.joinquant.com/algorithm/backtest/detail?backtestId=3136100d3a0b0e23a9c23cdc0a5b1ab9\n"
     ]
    },
    {
     "name": "stderr",
     "output_type": "stream",
     "text": [
      "\r",
      " 40%|███▉      | 25/63 [20:11<27:08, 42.86s/it]"
     ]
    },
    {
     "name": "stdout",
     "output_type": "stream",
     "text": [
      "\n",
      "【回测完成】总用时：36秒(即0.01小时)。 ['market_cap', 'pb_ratio', 'pcf_ratio']\n",
      "【已完成|运行中|待运行】: [0|0|1]. [0|1|0]. [0|1|0]. [0|1|0]. [0|1|0]. [0|1|0]. [0|1|0]. [0|1|0]. [0|1|0]. \n",
      "{'factors': ['market_cap', 'pb_ratio', 'pcf_ratio']}回测成功 : https://www.joinquant.com/algorithm/backtest/detail?backtestId=f4e94f3d05aaa44712ad7e4b5c892d8b\n"
     ]
    },
    {
     "name": "stderr",
     "output_type": "stream",
     "text": [
      "\r",
      " 41%|████▏     | 26/63 [20:57<27:07, 43.99s/it]"
     ]
    },
    {
     "name": "stdout",
     "output_type": "stream",
     "text": [
      "\n",
      "【回测完成】总用时：46秒(即0.01小时)。 ['market_cap', 'pb_ratio', 'turnover_ratio']\n",
      "【已完成|运行中|待运行】: [0|0|1]. [0|1|0]. [0|1|0]. [0|1|0]. [0|1|0]. [0|1|0]. [0|1|0]. [0|1|0]. [0|1|0]. \n",
      "{'factors': ['market_cap', 'pb_ratio', 'turnover_ratio']}回测成功 : https://www.joinquant.com/algorithm/backtest/detail?backtestId=2f3d3abd890dba77a2bf9311600f59aa\n"
     ]
    },
    {
     "name": "stderr",
     "output_type": "stream",
     "text": [
      "\r",
      " 43%|████▎     | 27/63 [21:44<26:52, 44.79s/it]"
     ]
    },
    {
     "name": "stdout",
     "output_type": "stream",
     "text": [
      "\n",
      "【回测完成】总用时：46秒(即0.01小时)。 ['market_cap', 'pb_ratio', 'administration_expense']\n",
      "【已完成|运行中|待运行】: [0|0|1]. [0|1|0]. [0|1|0]. [0|1|0]. [0|1|0]. [0|1|0]. [0|1|0]. [0|1|0]. \n",
      "{'factors': ['market_cap', 'pb_ratio', 'administration_expense']}回测成功 : https://www.joinquant.com/algorithm/backtest/detail?backtestId=446729a521f58ad628d3e6b78d509410\n"
     ]
    },
    {
     "name": "stderr",
     "output_type": "stream",
     "text": [
      "\r",
      " 44%|████▍     | 28/63 [22:26<25:33, 43.82s/it]"
     ]
    },
    {
     "name": "stdout",
     "output_type": "stream",
     "text": [
      "\n",
      "【回测完成】总用时：41秒(即0.01小时)。 ['market_cap', 'pcf_ratio', 'turnover_ratio']\n",
      "【已完成|运行中|待运行】: [0|0|1]. [0|1|0]. [0|1|0]. [0|1|0]. [0|1|0]. [0|1|0]. [0|1|0]. [0|1|0]. [0|1|0]. \n",
      "{'factors': ['market_cap', 'pcf_ratio', 'turnover_ratio']}回测成功 : https://www.joinquant.com/algorithm/backtest/detail?backtestId=77c843a4b68360175dbeb8a8af143e66\n"
     ]
    },
    {
     "name": "stderr",
     "output_type": "stream",
     "text": [
      "\r",
      " 46%|████▌     | 29/63 [23:12<25:19, 44.69s/it]"
     ]
    },
    {
     "name": "stdout",
     "output_type": "stream",
     "text": [
      "\n",
      "【回测完成】总用时：46秒(即0.01小时)。 ['market_cap', 'pcf_ratio', 'administration_expense']\n",
      "【已完成|运行中|待运行】: [0|0|1]. [0|1|0]. [0|1|0]. [0|1|0]. [0|1|0]. [0|1|0]. [0|1|0]. [0|1|0]. \n",
      "{'factors': ['market_cap', 'pcf_ratio', 'administration_expense']}回测成功 : https://www.joinquant.com/algorithm/backtest/detail?backtestId=71d8d7b47aaa7c7cc462200a350d72f3\n"
     ]
    },
    {
     "name": "stderr",
     "output_type": "stream",
     "text": [
      "\r",
      " 48%|████▊     | 30/63 [23:54<24:02, 43.71s/it]"
     ]
    },
    {
     "name": "stdout",
     "output_type": "stream",
     "text": [
      "\n",
      "【回测完成】总用时：41秒(即0.01小时)。 ['market_cap', 'turnover_ratio', 'administration_expense']\n",
      "【已完成|运行中|待运行】: [0|0|1]. [0|1|0]. [0|1|0]. [0|1|0]. [0|1|0]. [0|1|0]. [0|1|0]. [0|1|0]. [0|1|0]. [0|1|0]. [0|1|0]. [0|1|0]. [0|1|0]. [0|1|0]. \n",
      "{'factors': ['market_cap', 'turnover_ratio', 'administration_expense']}回测成功 : https://www.joinquant.com/algorithm/backtest/detail?backtestId=b914227b1540e13c153b2eb2db03a4ac\n"
     ]
    },
    {
     "name": "stderr",
     "output_type": "stream",
     "text": [
      "\r",
      " 49%|████▉     | 31/63 [25:06<27:51, 52.24s/it]"
     ]
    },
    {
     "name": "stdout",
     "output_type": "stream",
     "text": [
      "\n",
      "【回测完成】总用时：72秒(即0.02小时)。 ['pe_ratio', 'pb_ratio', 'pcf_ratio']\n",
      "【已完成|运行中|待运行】: [0|0|1]. [0|1|0]. [0|1|0]. [0|1|0]. [0|1|0]. [0|1|0]. [0|1|0]. [0|1|0]. [0|1|0]. \n",
      "{'factors': ['pe_ratio', 'pb_ratio', 'pcf_ratio']}回测成功 : https://www.joinquant.com/algorithm/backtest/detail?backtestId=c8f4df1d6a171edd800c2df3cb9f929a\n"
     ]
    },
    {
     "name": "stderr",
     "output_type": "stream",
     "text": [
      "\r",
      " 51%|█████     | 32/63 [25:52<26:06, 50.54s/it]"
     ]
    },
    {
     "name": "stdout",
     "output_type": "stream",
     "text": [
      "\n",
      "【回测完成】总用时：46秒(即0.01小时)。 ['pe_ratio', 'pb_ratio', 'turnover_ratio']\n",
      "【已完成|运行中|待运行】: [0|0|1]. [0|1|0]. [0|1|0]. [0|1|0]. [0|1|0]. [0|1|0]. [0|1|0]. \n",
      "{'factors': ['pe_ratio', 'pb_ratio', 'turnover_ratio']}回测成功 : https://www.joinquant.com/algorithm/backtest/detail?backtestId=1eb4f6ba8a08a076eb1fa8c65ee3ac8b\n"
     ]
    },
    {
     "name": "stderr",
     "output_type": "stream",
     "text": [
      "\r",
      " 52%|█████▏    | 33/63 [26:29<23:08, 46.29s/it]"
     ]
    },
    {
     "name": "stdout",
     "output_type": "stream",
     "text": [
      "\n",
      "【回测完成】总用时：36秒(即0.01小时)。 ['pe_ratio', 'pb_ratio', 'administration_expense']\n",
      "【已完成|运行中|待运行】: [0|0|1]. [0|1|0]. [0|1|0]. [0|1|0]. [0|1|0]. [0|1|0]. [0|1|0]. [0|1|0]. [0|1|0]. \n",
      "{'factors': ['pe_ratio', 'pb_ratio', 'administration_expense']}回测成功 : https://www.joinquant.com/algorithm/backtest/detail?backtestId=53062060152d7bebf8728289e8d1ed58\n"
     ]
    },
    {
     "name": "stderr",
     "output_type": "stream",
     "text": [
      "\r",
      " 54%|█████▍    | 34/63 [27:15<22:24, 46.36s/it]"
     ]
    },
    {
     "name": "stdout",
     "output_type": "stream",
     "text": [
      "\n",
      "【回测完成】总用时：46秒(即0.01小时)。 ['pe_ratio', 'pcf_ratio', 'turnover_ratio']\n",
      "【已完成|运行中|待运行】: [0|0|1]. [0|1|0]. [0|1|0]. [0|1|0]. [0|1|0]. [0|1|0]. [0|1|0]. [0|1|0]. [0|1|0]. [0|1|0]. [0|1|0]. [0|1|0]. [0|1|0]. [0|1|0]. [0|1|0]. \n",
      "{'factors': ['pe_ratio', 'pcf_ratio', 'turnover_ratio']}回测成功 : https://www.joinquant.com/algorithm/backtest/detail?backtestId=96912b67b9349a5c714eaab48d42d13d\n"
     ]
    },
    {
     "name": "stderr",
     "output_type": "stream",
     "text": [
      "\r",
      " 56%|█████▌    | 35/63 [28:33<25:57, 55.63s/it]"
     ]
    },
    {
     "name": "stdout",
     "output_type": "stream",
     "text": [
      "\n",
      "【回测完成】总用时：77秒(即0.02小时)。 ['pe_ratio', 'pcf_ratio', 'administration_expense']\n",
      "【已完成|运行中|待运行】: [0|0|1]. [0|1|0]. [0|1|0]. [0|1|0]. [0|1|0]. [0|1|0]. [0|1|0]. [0|1|0]. \n",
      "{'factors': ['pe_ratio', 'pcf_ratio', 'administration_expense']}回测成功 : https://www.joinquant.com/algorithm/backtest/detail?backtestId=44619f878087672473bf0383e9b852d3\n"
     ]
    },
    {
     "name": "stderr",
     "output_type": "stream",
     "text": [
      "\r",
      " 57%|█████▋    | 36/63 [29:14<23:07, 51.37s/it]"
     ]
    },
    {
     "name": "stdout",
     "output_type": "stream",
     "text": [
      "\n",
      "【回测完成】总用时：41秒(即0.01小时)。 ['pe_ratio', 'turnover_ratio', 'administration_expense']\n",
      "【已完成|运行中|待运行】: [0|0|1]. [0|1|0]. [0|1|0]. [0|1|0]. [0|1|0]. [0|1|0]. [0|1|0]. [0|1|0]. [0|1|0]. \n",
      "{'factors': ['pe_ratio', 'turnover_ratio', 'administration_expense']}回测成功 : https://www.joinquant.com/algorithm/backtest/detail?backtestId=2e8201658ec5b5cd45d912c76018fcf7\n"
     ]
    },
    {
     "name": "stderr",
     "output_type": "stream",
     "text": [
      "\r",
      " 59%|█████▊    | 37/63 [30:01<21:40, 50.00s/it]"
     ]
    },
    {
     "name": "stdout",
     "output_type": "stream",
     "text": [
      "\n",
      "【回测完成】总用时：46秒(即0.01小时)。 ['pb_ratio', 'pcf_ratio', 'turnover_ratio']\n",
      "【已完成|运行中|待运行】: [0|0|1]. [0|1|0]. [0|1|0]. [0|1|0]. [0|1|0]. [0|1|0]. [0|1|0]. [0|1|0]. \n",
      "{'factors': ['pb_ratio', 'pcf_ratio', 'turnover_ratio']}回测成功 : https://www.joinquant.com/algorithm/backtest/detail?backtestId=b5a439c3d5d5cbc19ff5e444ca287e7c\n"
     ]
    },
    {
     "name": "stderr",
     "output_type": "stream",
     "text": [
      "\r",
      " 60%|██████    | 38/63 [30:42<19:46, 47.46s/it]"
     ]
    },
    {
     "name": "stdout",
     "output_type": "stream",
     "text": [
      "\n",
      "【回测完成】总用时：41秒(即0.01小时)。 ['pb_ratio', 'pcf_ratio', 'administration_expense']\n",
      "【已完成|运行中|待运行】: [0|0|1]. [0|1|0]. [0|1|0]. [0|1|0]. [0|1|0]. [0|1|0]. [0|1|0]. [0|1|0]. \n",
      "{'factors': ['pb_ratio', 'pcf_ratio', 'administration_expense']}回测成功 : https://www.joinquant.com/algorithm/backtest/detail?backtestId=9244ef94cf945a96d927f4d6d199ada8\n"
     ]
    },
    {
     "name": "stderr",
     "output_type": "stream",
     "text": [
      "\r",
      " 62%|██████▏   | 39/63 [31:24<18:16, 45.67s/it]"
     ]
    },
    {
     "name": "stdout",
     "output_type": "stream",
     "text": [
      "\n",
      "【回测完成】总用时：41秒(即0.01小时)。 ['pb_ratio', 'turnover_ratio', 'administration_expense']\n",
      "【已完成|运行中|待运行】: [0|0|1]. [0|1|0]. [0|1|0]. [0|1|0]. [0|1|0]. [0|1|0]. [0|1|0]. [0|1|0]. \n",
      "{'factors': ['pb_ratio', 'turnover_ratio', 'administration_expense']}回测成功 : https://www.joinquant.com/algorithm/backtest/detail?backtestId=8fd4fcf4c0cdd66f3a04382c22271811\n"
     ]
    },
    {
     "name": "stderr",
     "output_type": "stream",
     "text": [
      "\r",
      " 63%|██████▎   | 40/63 [32:05<17:02, 44.44s/it]"
     ]
    },
    {
     "name": "stdout",
     "output_type": "stream",
     "text": [
      "\n",
      "【回测完成】总用时：41秒(即0.01小时)。 ['pcf_ratio', 'turnover_ratio', 'administration_expense']\n",
      "【已完成|运行中|待运行】: [0|0|1]. [0|1|0]. [0|1|0]. [0|1|0]. [0|1|0]. [0|1|0]. [0|1|0]. [0|1|0]. \n",
      "{'factors': ['pcf_ratio', 'turnover_ratio', 'administration_expense']}回测成功 : https://www.joinquant.com/algorithm/backtest/detail?backtestId=1232c8d9b45a86e8ad0f7660dcb84030\n"
     ]
    },
    {
     "name": "stderr",
     "output_type": "stream",
     "text": [
      "\r",
      " 65%|██████▌   | 41/63 [32:47<15:57, 43.53s/it]"
     ]
    },
    {
     "name": "stdout",
     "output_type": "stream",
     "text": [
      "\n",
      "【回测完成】总用时：41秒(即0.01小时)。 ['market_cap', 'pe_ratio', 'pb_ratio', 'pcf_ratio']\n",
      "【已完成|运行中|待运行】: [0|0|1]. [0|1|0]. [0|1|0]. [0|1|0]. [0|1|0]. [0|1|0]. [0|1|0]. [0|1|0]. \n",
      "{'factors': ['market_cap', 'pe_ratio', 'pb_ratio', 'pcf_ratio']}回测成功 : https://www.joinquant.com/algorithm/backtest/detail?backtestId=27925435bfb7c602b862a4cbe3d788a7\n"
     ]
    },
    {
     "name": "stderr",
     "output_type": "stream",
     "text": [
      "\r",
      " 67%|██████▋   | 42/63 [33:28<15:02, 42.97s/it]"
     ]
    },
    {
     "name": "stdout",
     "output_type": "stream",
     "text": [
      "\n",
      "【回测完成】总用时：41秒(即0.01小时)。 ['market_cap', 'pe_ratio', 'pb_ratio', 'turnover_ratio']\n",
      "【已完成|运行中|待运行】: [0|0|1]. [0|1|0]. [0|1|0]. [0|1|0]. [0|1|0]. [0|1|0]. [0|1|0]. [0|1|0]. [0|1|0]. [0|1|0]. [0|1|0]. [0|1|0]. [0|1|0]. [0|1|0]. \n",
      "{'factors': ['market_cap', 'pe_ratio', 'pb_ratio', 'turnover_ratio']}回测成功 : https://www.joinquant.com/algorithm/backtest/detail?backtestId=b1f067c15bfa80f33924ca06d4a91773\n"
     ]
    },
    {
     "name": "stderr",
     "output_type": "stream",
     "text": [
      "\r",
      " 68%|██████▊   | 43/63 [34:41<17:14, 51.70s/it]"
     ]
    },
    {
     "name": "stdout",
     "output_type": "stream",
     "text": [
      "\n",
      "【回测完成】总用时：72秒(即0.02小时)。 ['market_cap', 'pe_ratio', 'pb_ratio', 'administration_expense']\n",
      "【已完成|运行中|待运行】: [0|0|1]. [0|1|0]. [0|1|0]. [0|1|0]. [0|1|0]. [0|1|0]. [0|1|0]. [0|1|0]. \n",
      "{'factors': ['market_cap', 'pe_ratio', 'pb_ratio', 'administration_expense']}回测成功 : https://www.joinquant.com/algorithm/backtest/detail?backtestId=ddaf407b272ac43339aa567aae24eb10\n"
     ]
    },
    {
     "name": "stderr",
     "output_type": "stream",
     "text": [
      "\r",
      " 70%|██████▉   | 44/63 [35:22<15:24, 48.65s/it]"
     ]
    },
    {
     "name": "stdout",
     "output_type": "stream",
     "text": [
      "\n",
      "【回测完成】总用时：41秒(即0.01小时)。 ['market_cap', 'pe_ratio', 'pcf_ratio', 'turnover_ratio']\n",
      "【已完成|运行中|待运行】: [0|0|1]. [0|1|0]. [0|1|0]. [0|1|0]. [0|1|0]. [0|1|0]. [0|1|0]. [0|1|0]. \n",
      "{'factors': ['market_cap', 'pe_ratio', 'pcf_ratio', 'turnover_ratio']}回测成功 : https://www.joinquant.com/algorithm/backtest/detail?backtestId=c44789f289b0c266d921796d173418de\n"
     ]
    },
    {
     "name": "stderr",
     "output_type": "stream",
     "text": [
      "\r",
      " 71%|███████▏  | 45/63 [36:04<13:56, 46.50s/it]"
     ]
    },
    {
     "name": "stdout",
     "output_type": "stream",
     "text": [
      "\n",
      "【回测完成】总用时：41秒(即0.01小时)。 ['market_cap', 'pe_ratio', 'pcf_ratio', 'administration_expense']\n",
      "【已完成|运行中|待运行】: [0|0|1]. [0|1|0]. [0|1|0]. [0|1|0]. [0|1|0]. [0|1|0]. [0|1|0]. [0|1|0]. [0|1|0]. [0|1|0]. [0|1|0]. [0|1|0]. [0|1|0]. [0|1|0]. [0|1|0]. \n",
      "{'factors': ['market_cap', 'pe_ratio', 'pcf_ratio', 'administration_expense']}回测成功 : https://www.joinquant.com/algorithm/backtest/detail?backtestId=980a0326bf2a634dac4812f6178e579c\n"
     ]
    },
    {
     "name": "stderr",
     "output_type": "stream",
     "text": [
      "\r",
      " 73%|███████▎  | 46/63 [37:21<15:47, 55.74s/it]"
     ]
    },
    {
     "name": "stdout",
     "output_type": "stream",
     "text": [
      "\n",
      "【回测完成】总用时：77秒(即0.02小时)。 ['market_cap', 'pe_ratio', 'turnover_ratio', 'administration_expense']\n",
      "【已完成|运行中|待运行】: [0|0|1]. [0|1|0]. [0|1|0]. [0|1|0]. [0|1|0]. [0|1|0]. [0|1|0]. [0|1|0]. [0|1|0]. [0|1|0]. [0|1|0]. [0|1|0]. [0|1|0]. \n",
      "{'factors': ['market_cap', 'pe_ratio', 'turnover_ratio', 'administration_expense']}回测成功 : https://www.joinquant.com/algorithm/backtest/detail?backtestId=82f2aa97cff92f18251f400ce459fac8\n"
     ]
    },
    {
     "name": "stderr",
     "output_type": "stream",
     "text": [
      "\r",
      " 75%|███████▍  | 47/63 [38:28<15:45, 59.11s/it]"
     ]
    },
    {
     "name": "stdout",
     "output_type": "stream",
     "text": [
      "\n",
      "【回测完成】总用时：66秒(即0.02小时)。 ['market_cap', 'pb_ratio', 'pcf_ratio', 'turnover_ratio']\n",
      "【已完成|运行中|待运行】: [0|0|1]. [0|1|0]. [0|1|0]. [0|1|0]. [0|1|0]. [0|1|0]. [0|1|0]. [0|1|0]. \n",
      "{'factors': ['market_cap', 'pb_ratio', 'pcf_ratio', 'turnover_ratio']}回测成功 : https://www.joinquant.com/algorithm/backtest/detail?backtestId=d8fba3b52f23ce1ab2e03b537568aa47\n"
     ]
    },
    {
     "name": "stderr",
     "output_type": "stream",
     "text": [
      "\r",
      " 76%|███████▌  | 48/63 [39:09<13:27, 53.84s/it]"
     ]
    },
    {
     "name": "stdout",
     "output_type": "stream",
     "text": [
      "\n",
      "【回测完成】总用时：41秒(即0.01小时)。 ['market_cap', 'pb_ratio', 'pcf_ratio', 'administration_expense']\n",
      "【已完成|运行中|待运行】: [0|0|1]. [0|1|0]. [0|1|0]. [0|1|0]. [0|1|0]. [0|1|0]. [0|1|0]. \n",
      "{'factors': ['market_cap', 'pb_ratio', 'pcf_ratio', 'administration_expense']}回测成功 : https://www.joinquant.com/algorithm/backtest/detail?backtestId=8a06909f4c3c5003af96dc7ec274bdbc\n"
     ]
    },
    {
     "name": "stderr",
     "output_type": "stream",
     "text": [
      "\r",
      " 78%|███████▊  | 49/63 [39:46<11:20, 48.59s/it]"
     ]
    },
    {
     "name": "stdout",
     "output_type": "stream",
     "text": [
      "\n",
      "【回测完成】总用时：36秒(即0.01小时)。 ['market_cap', 'pb_ratio', 'turnover_ratio', 'administration_expense']\n",
      "【已完成|运行中|待运行】: [0|0|1]. [0|1|0]. [0|1|0]. [0|1|0]. [0|1|0]. [0|1|0]. [0|1|0]. [0|1|0]. [0|1|0]. [0|1|0]. [0|1|0]. [0|1|0]. [0|1|0]. [0|1|0]. \n",
      "{'factors': ['market_cap', 'pb_ratio', 'turnover_ratio', 'administration_expense']}回测成功 : https://www.joinquant.com/algorithm/backtest/detail?backtestId=6a6bcafbe4b21d0df425a945f9867935\n"
     ]
    },
    {
     "name": "stderr",
     "output_type": "stream",
     "text": [
      "\r",
      " 79%|███████▉  | 50/63 [40:58<12:03, 55.66s/it]"
     ]
    },
    {
     "name": "stdout",
     "output_type": "stream",
     "text": [
      "\n",
      "【回测完成】总用时：72秒(即0.02小时)。 ['market_cap', 'pcf_ratio', 'turnover_ratio', 'administration_expense']\n",
      "【已完成|运行中|待运行】: [0|0|1]. [0|1|0]. [0|1|0]. [0|1|0]. [0|1|0]. [0|1|0]. [0|1|0]. [0|1|0]. [0|1|0]. [0|1|0]. [0|1|0]. [0|1|0]. [0|1|0]. \n",
      "{'factors': ['market_cap', 'pcf_ratio', 'turnover_ratio', 'administration_expense']}回测成功 : https://www.joinquant.com/algorithm/backtest/detail?backtestId=7f95237ed6b942fd3836a640e5c9210f\n"
     ]
    },
    {
     "name": "stderr",
     "output_type": "stream",
     "text": [
      "\r",
      " 81%|████████  | 51/63 [42:05<11:49, 59.10s/it]"
     ]
    },
    {
     "name": "stdout",
     "output_type": "stream",
     "text": [
      "\n",
      "【回测完成】总用时：67秒(即0.02小时)。 ['pe_ratio', 'pb_ratio', 'pcf_ratio', 'turnover_ratio']\n",
      "【已完成|运行中|待运行】: [0|0|1]. [0|1|0]. [0|1|0]. [0|1|0]. [0|1|0]. [0|1|0]. [0|1|0]. [0|1|0]. \n",
      "{'factors': ['pe_ratio', 'pb_ratio', 'pcf_ratio', 'turnover_ratio']}回测成功 : https://www.joinquant.com/algorithm/backtest/detail?backtestId=227dd83a2e52e92f46d02295387a9b0a\n"
     ]
    },
    {
     "name": "stderr",
     "output_type": "stream",
     "text": [
      "\r",
      " 83%|████████▎ | 52/63 [42:47<09:52, 53.87s/it]"
     ]
    },
    {
     "name": "stdout",
     "output_type": "stream",
     "text": [
      "\n",
      "【回测完成】总用时：41秒(即0.01小时)。 ['pe_ratio', 'pb_ratio', 'pcf_ratio', 'administration_expense']\n",
      "【已完成|运行中|待运行】: [0|0|1]. [0|1|0]. [0|1|0]. [0|1|0]. [0|1|0]. [0|1|0]. [0|1|0]. [0|1|0]. [0|1|0]. \n",
      "{'factors': ['pe_ratio', 'pb_ratio', 'pcf_ratio', 'administration_expense']}回测成功 : https://www.joinquant.com/algorithm/backtest/detail?backtestId=80bc3f4546540fa2870411cd6f16341c\n"
     ]
    },
    {
     "name": "stderr",
     "output_type": "stream",
     "text": [
      "\r",
      " 84%|████████▍ | 53/63 [43:33<08:37, 51.71s/it]"
     ]
    },
    {
     "name": "stdout",
     "output_type": "stream",
     "text": [
      "\n",
      "【回测完成】总用时：46秒(即0.01小时)。 ['pe_ratio', 'pb_ratio', 'turnover_ratio', 'administration_expense']\n",
      "【已完成|运行中|待运行】: [0|0|1]. [0|1|0]. [0|1|0]. [0|1|0]. [0|1|0]. [0|1|0]. [0|1|0]. [0|1|0]. [0|1|0]. [0|1|0]. [0|1|0]. [0|1|0]. [0|1|0]. [0|1|0]. [0|1|0]. \n",
      "{'factors': ['pe_ratio', 'pb_ratio', 'turnover_ratio', 'administration_expense']}回测成功 : https://www.joinquant.com/algorithm/backtest/detail?backtestId=cf0b15120afe145f31671f646aef3f16\n"
     ]
    },
    {
     "name": "stderr",
     "output_type": "stream",
     "text": [
      "\r",
      " 86%|████████▌ | 54/63 [44:51<08:54, 59.37s/it]"
     ]
    },
    {
     "name": "stdout",
     "output_type": "stream",
     "text": [
      "\n",
      "【回测完成】总用时：77秒(即0.02小时)。 ['pe_ratio', 'pcf_ratio', 'turnover_ratio', 'administration_expense']\n",
      "【已完成|运行中|待运行】: [0|0|1]. [0|1|0]. [0|1|0]. [0|1|0]. [0|1|0]. [0|1|0]. [0|1|0]. [0|1|0]. [0|1|0]. \n",
      "{'factors': ['pe_ratio', 'pcf_ratio', 'turnover_ratio', 'administration_expense']}回测成功 : https://www.joinquant.com/algorithm/backtest/detail?backtestId=dd54abe860a050dc5e25e3249a2e385b\n"
     ]
    },
    {
     "name": "stderr",
     "output_type": "stream",
     "text": [
      "\r",
      " 87%|████████▋ | 55/63 [45:37<07:24, 55.55s/it]"
     ]
    },
    {
     "name": "stdout",
     "output_type": "stream",
     "text": [
      "\n",
      "【回测完成】总用时：46秒(即0.01小时)。 ['pb_ratio', 'pcf_ratio', 'turnover_ratio', 'administration_expense']\n",
      "【已完成|运行中|待运行】: [0|0|1]. [0|1|0]. [0|1|0]. [0|1|0]. [0|1|0]. [0|1|0]. [0|1|0]. [0|1|0]. [0|1|0]. [0|1|0]. \n",
      "{'factors': ['pb_ratio', 'pcf_ratio', 'turnover_ratio', 'administration_expense']}回测成功 : https://www.joinquant.com/algorithm/backtest/detail?backtestId=881285bba456fbb7aa7f4d49ba671a04\n"
     ]
    },
    {
     "name": "stderr",
     "output_type": "stream",
     "text": [
      "\r",
      " 89%|████████▉ | 56/63 [46:29<06:20, 54.40s/it]"
     ]
    },
    {
     "name": "stdout",
     "output_type": "stream",
     "text": [
      "\n",
      "【回测完成】总用时：51秒(即0.01小时)。 ['market_cap', 'pe_ratio', 'pb_ratio', 'pcf_ratio', 'turnover_ratio']\n",
      "【已完成|运行中|待运行】: [0|0|1]. [0|1|0]. [0|1|0]. [0|1|0]. [0|1|0]. [0|1|0]. [0|1|0]. [0|1|0]. [0|1|0]. [0|1|0]. [0|1|0]. [0|1|0]. [0|1|0]. \n",
      "{'factors': ['market_cap', 'pe_ratio', 'pb_ratio', 'pcf_ratio', 'turnover_ratio']}回测成功 : https://www.joinquant.com/algorithm/backtest/detail?backtestId=fb081f65e9be785bf6f33422368a7399\n"
     ]
    },
    {
     "name": "stderr",
     "output_type": "stream",
     "text": [
      "\r",
      " 90%|█████████ | 57/63 [47:36<05:48, 58.16s/it]"
     ]
    },
    {
     "name": "stdout",
     "output_type": "stream",
     "text": [
      "\n",
      "【回测完成】总用时：66秒(即0.02小时)。 ['market_cap', 'pe_ratio', 'pb_ratio', 'pcf_ratio', 'administration_expense']\n",
      "【已完成|运行中|待运行】: [0|0|1]. [0|1|0]. [0|1|0]. [0|1|0]. [0|1|0]. [0|1|0]. [0|1|0]. [0|1|0]. [0|1|0]. [0|1|0]. [0|1|0]. [0|1|0]. [0|1|0]. [0|1|0]. [0|1|0]. [0|1|0]. [0|1|0]. [0|1|0]. [0|1|0]. [0|1|0]. \n",
      "{'factors': ['market_cap', 'pe_ratio', 'pb_ratio', 'pcf_ratio', 'administration_expense']}回测成功 : https://www.joinquant.com/algorithm/backtest/detail?backtestId=aa3f294cd44ec0216720d7b19e12681a\n"
     ]
    },
    {
     "name": "stderr",
     "output_type": "stream",
     "text": [
      "\r",
      " 92%|█████████▏| 58/63 [49:19<05:58, 71.62s/it]"
     ]
    },
    {
     "name": "stdout",
     "output_type": "stream",
     "text": [
      "\n",
      "【回测完成】总用时：102秒(即0.03小时)。 ['market_cap', 'pe_ratio', 'pb_ratio', 'turnover_ratio', 'administration_expense']\n",
      "【已完成|运行中|待运行】: [0|0|1]. [0|1|0]. [0|1|0]. [0|1|0]. [0|1|0]. [0|1|0]. [0|1|0]. [0|1|0]. [0|1|0]. [0|1|0]. \n",
      "{'factors': ['market_cap', 'pe_ratio', 'pb_ratio', 'turnover_ratio', 'administration_expense']}回测成功 : https://www.joinquant.com/algorithm/backtest/detail?backtestId=b9e62bc786661f4b48ca110297aa6698\n"
     ]
    },
    {
     "name": "stderr",
     "output_type": "stream",
     "text": [
      "\r",
      " 94%|█████████▎| 59/63 [50:11<04:22, 65.72s/it]"
     ]
    },
    {
     "name": "stdout",
     "output_type": "stream",
     "text": [
      "\n",
      "【回测完成】总用时：51秒(即0.01小时)。 ['market_cap', 'pe_ratio', 'pcf_ratio', 'turnover_ratio', 'administration_expense']\n",
      "【已完成|运行中|待运行】: [0|0|1]. [0|1|0]. [0|1|0]. [0|1|0]. [0|1|0]. [0|1|0]. [0|1|0]. [0|1|0]. [0|1|0]. [0|1|0]. [0|1|0]. [0|1|0]. \n",
      "{'factors': ['market_cap', 'pe_ratio', 'pcf_ratio', 'turnover_ratio', 'administration_expense']}回测成功 : https://www.joinquant.com/algorithm/backtest/detail?backtestId=e9f851e0183cdbfcc45a65461b3c1d7a\n"
     ]
    },
    {
     "name": "stderr",
     "output_type": "stream",
     "text": [
      "\r",
      " 95%|█████████▌| 60/63 [51:13<03:13, 64.58s/it]"
     ]
    },
    {
     "name": "stdout",
     "output_type": "stream",
     "text": [
      "\n",
      "【回测完成】总用时：61秒(即0.02小时)。 ['market_cap', 'pb_ratio', 'pcf_ratio', 'turnover_ratio', 'administration_expense']\n",
      "【已完成|运行中|待运行】: [0|0|1]. [0|1|0]. [0|1|0]. [0|1|0]. [0|1|0]. [0|1|0]. [0|1|0]. [0|1|0]. [0|1|0]. [0|1|0]. [0|1|0]. [0|1|0]. [0|1|0]. [0|1|0]. \n",
      "{'factors': ['market_cap', 'pb_ratio', 'pcf_ratio', 'turnover_ratio', 'administration_expense']}回测成功 : https://www.joinquant.com/algorithm/backtest/detail?backtestId=555278c4ecc7bbe879ffff5b7e0c7a2f\n"
     ]
    },
    {
     "name": "stderr",
     "output_type": "stream",
     "text": [
      "\r",
      " 97%|█████████▋| 61/63 [52:25<02:13, 66.82s/it]"
     ]
    },
    {
     "name": "stdout",
     "output_type": "stream",
     "text": [
      "\n",
      "【回测完成】总用时：72秒(即0.02小时)。 ['pe_ratio', 'pb_ratio', 'pcf_ratio', 'turnover_ratio', 'administration_expense']\n",
      "【已完成|运行中|待运行】: [0|0|1]. [0|1|0]. [0|1|0]. [0|1|0]. [0|1|0]. [0|1|0]. [0|1|0]. [0|1|0]. [0|1|0]. [0|1|0]. [0|1|0]. [0|1|0]. [0|1|0]. [0|1|0]. \n",
      "{'factors': ['pe_ratio', 'pb_ratio', 'pcf_ratio', 'turnover_ratio', 'administration_expense']}回测成功 : https://www.joinquant.com/algorithm/backtest/detail?backtestId=1ae1931dc8d3715e74e6cbb169ee2be3\n"
     ]
    },
    {
     "name": "stderr",
     "output_type": "stream",
     "text": [
      "\r",
      " 98%|█████████▊| 62/63 [53:37<01:08, 68.40s/it]"
     ]
    },
    {
     "name": "stdout",
     "output_type": "stream",
     "text": [
      "\n",
      "【回测完成】总用时：72秒(即0.02小时)。 ['market_cap', 'pe_ratio', 'pb_ratio', 'pcf_ratio', 'turnover_ratio', 'administration_expense']\n",
      "【已完成|运行中|待运行】: [0|0|1]. [0|1|0]. [0|1|0]. [0|1|0]. [0|1|0]. [0|1|0]. [0|1|0]. [0|1|0]. [0|1|0]. [0|1|0]. [0|1|0]. [0|1|0]. [0|1|0]. [0|1|0]. \n",
      "{'factors': ['market_cap', 'pe_ratio', 'pb_ratio', 'pcf_ratio', 'turnover_ratio', 'administration_expense']}回测成功 : https://www.joinquant.com/algorithm/backtest/detail?backtestId=a32236dfb3274924ac2a364d81021cef\n"
     ]
    },
    {
     "name": "stderr",
     "output_type": "stream",
     "text": [
      "\r",
      "100%|██████████| 63/63 [54:49<00:00, 69.51s/it]"
     ]
    },
    {
     "name": "stdout",
     "output_type": "stream",
     "text": [
      "\n",
      "【回测完成】总用时：72秒(即0.02小时)。 "
     ]
    },
    {
     "name": "stderr",
     "output_type": "stream",
     "text": [
      "\n"
     ]
    }
   ],
   "source": [
    "# 4.2 Backtesting for all subsets of factors\n",
    "from tqdm import tqdm # tqdm to gauge progress\n",
    "\n",
    "\n",
    "df_list = []  # List to hold each evaluations_df DataFrame\n",
    "\n",
    "for subset in tqdm(factor_power_list):\n",
    "    print(subset)\n",
    "    pa.get_backtest_data(file_name = 'results.pkl',  \n",
    "                              running_max = 10,      \n",
    "                              benchmark_id = None,   \n",
    "                              start_date = '2022-01-01', #回测开始时间\n",
    "                              end_date = '2022-11-01',   #回测结束时间\n",
    "                              frequency = 'day',         \n",
    "                              initial_cash = '2000000',  \n",
    "                              param_names = ['factors'],  #变量名称\n",
    "                              param_values = [[subset]],  #变量对应的参数\n",
    "                              python_version = 3,   \n",
    "                              use_credit = True     \n",
    "                              )\n",
    "    pa.read_backtest_data('results.pkl')\n",
    "    df_list.append(pa.evaluations_df)\n",
    "\n",
    "# Concatenate all the DataFrames in df_list\n",
    "all_evaluations_df = pd.concat(df_list)\n",
    "\n",
    "# Now all_evaluations_df contains all the evaluations_df for each subset\n"
   ]
  },
  {
   "cell_type": "code",
   "execution_count": 64,
   "metadata": {},
   "outputs": [
    {
     "name": "stdout",
     "output_type": "stream",
     "text": [
      "【已完成|运行中|待运行】: [0|0|1]. [0|1|0]. [0|1|0]. [0|1|0]. [0|1|0]. [0|1|0]. [0|1|0]. [0|1|0]. \n",
      "{'factors': ['market_cap', 'pe_ratio']}回测成功 : https://www.joinquant.com/algorithm/backtest/detail?backtestId=087e7645a7f092cb4f3eef2761b78599\n",
      "\n",
      "【回测完成】总用时：41秒(即0.01小时)。 "
     ]
    }
   ],
   "source": [
    "pa.get_backtest_data(file_name = 'results.pkl',  \n",
    "                              running_max = 10,      \n",
    "                              benchmark_id = None,   \n",
    "                              start_date = '2022-01-01', #回测开始时间\n",
    "                              end_date = '2022-11-01',   #回测结束时间\n",
    "                              frequency = 'day',         \n",
    "                              initial_cash = '2000000',  \n",
    "                              param_names = ['factors'],  #变量名称\n",
    "                              param_values = [[['market_cap', 'pe_ratio']]],  #变量对应的参数\n",
    "                              python_version = 3,   \n",
    "                              use_credit = True     \n",
    "                              )"
   ]
  },
  {
   "cell_type": "code",
   "execution_count": 102,
   "metadata": {},
   "outputs": [
    {
     "data": {
      "image/png": "[encoded data removed]",
      "text/plain": [
       "<Figure size 900x900 with 30 Axes>"
      ]
     },
     "metadata": {
      "needs_background": "light"
     },
     "output_type": "display_data"
    }
   ],
   "source": [
    "result_df = all_evaluations_df.copy()\n",
    "\n",
    "# Assuming your data is stored in a DataFrame called 'data_df'\n",
    "columns_to_plot = ['algorithm_return', 'algorithm_volatility', 'win_ratio', 'sharpe', 'turnover_rate']\n",
    "\n",
    "# Check data types of each column\n",
    "#print(result_df.dtypes)\n",
    "\n",
    "# Convert numeric columns to float if needed\n",
    "result_df[columns_to_plot] = result_df[columns_to_plot].astype(float)\n",
    "\n",
    "# Check for any missing or NaN values\n",
    "#print(result_df[columns_to_plot].isnull().sum())\n",
    "\n",
    "# Create pairplot\n",
    "sns.pairplot(result_df[columns_to_plot])\n",
    "plt.show()"
   ]
  },
  {
   "cell_type": "code",
   "execution_count": 91,
   "metadata": {},
   "outputs": [
    {
     "data": {
      "text/html": [
       "<div>\n",
       "<style scoped>\n",
       "    .dataframe tbody tr th:only-of-type {\n",
       "        vertical-align: middle;\n",
       "    }\n",
       "\n",
       "    .dataframe tbody tr th {\n",
       "        vertical-align: top;\n",
       "    }\n",
       "\n",
       "    .dataframe thead th {\n",
       "        text-align: right;\n",
       "    }\n",
       "</style>\n",
       "<table border=\"1\" class=\"dataframe\">\n",
       "  <thead>\n",
       "    <tr style=\"text-align: right;\">\n",
       "      <th></th>\n",
       "      <th>factors</th>\n",
       "      <th>__version</th>\n",
       "      <th>algorithm_return</th>\n",
       "      <th>algorithm_volatility</th>\n",
       "      <th>alpha</th>\n",
       "      <th>annual_algo_return</th>\n",
       "      <th>annual_bm_return</th>\n",
       "      <th>avg_excess_return</th>\n",
       "      <th>avg_position_days</th>\n",
       "      <th>avg_trade_return</th>\n",
       "      <th>benchmark_return</th>\n",
       "      <th>benchmark_volatility</th>\n",
       "      <th>beta</th>\n",
       "      <th>day_win_ratio</th>\n",
       "      <th>excess_return</th>\n",
       "      <th>excess_return_max_drawdown</th>\n",
       "      <th>excess_return_max_drawdown_period</th>\n",
       "      <th>excess_return_sharpe</th>\n",
       "      <th>information</th>\n",
       "      <th>lose_count</th>\n",
       "      <th>max_drawdown</th>\n",
       "      <th>max_drawdown_period</th>\n",
       "      <th>max_leverage</th>\n",
       "      <th>period_label</th>\n",
       "      <th>profit_loss_ratio</th>\n",
       "      <th>sharpe</th>\n",
       "      <th>sortino</th>\n",
       "      <th>trading_days</th>\n",
       "      <th>treasury_return</th>\n",
       "      <th>turnover_rate</th>\n",
       "      <th>win_count</th>\n",
       "      <th>win_ratio</th>\n",
       "    </tr>\n",
       "  </thead>\n",
       "  <tbody>\n",
       "    <tr>\n",
       "      <th>0</th>\n",
       "      <td>[market_cap, pe_ratio, turnover_ratio, adminis...</td>\n",
       "      <td>101</td>\n",
       "      <td>-0.0770501</td>\n",
       "      <td>0.216303</td>\n",
       "      <td>0.182978</td>\n",
       "      <td>-0.095822</td>\n",
       "      <td>-0.320062</td>\n",
       "      <td>0.00116766</td>\n",
       "      <td>68.3621</td>\n",
       "      <td>-0.00087166</td>\n",
       "      <td>-0.264393</td>\n",
       "      <td>0.207698</td>\n",
       "      <td>0.885404</td>\n",
       "      <td>0.542714</td>\n",
       "      <td>0.254678</td>\n",
       "      <td>0.0410421</td>\n",
       "      <td>[2022-04-21, 2022-04-28]</td>\n",
       "      <td>2.48801</td>\n",
       "      <td>1.92741</td>\n",
       "      <td>58</td>\n",
       "      <td>0.220164</td>\n",
       "      <td>[2022-01-05, 2022-04-26]</td>\n",
       "      <td>0</td>\n",
       "      <td>2022-11</td>\n",
       "      <td>0.96772</td>\n",
       "      <td>-0.627925</td>\n",
       "      <td>-0.925483</td>\n",
       "      <td>199</td>\n",
       "      <td>0.0329863</td>\n",
       "      <td>0.022586</td>\n",
       "      <td>56</td>\n",
       "      <td>0.491228</td>\n",
       "    </tr>\n",
       "    <tr>\n",
       "      <th>0</th>\n",
       "      <td>[turnover_ratio]</td>\n",
       "      <td>101</td>\n",
       "      <td>-0.0803908</td>\n",
       "      <td>0.145799</td>\n",
       "      <td>0.0498856</td>\n",
       "      <td>-0.0999316</td>\n",
       "      <td>-0.320062</td>\n",
       "      <td>0.00116014</td>\n",
       "      <td>89.4318</td>\n",
       "      <td>0.00533721</td>\n",
       "      <td>-0.264393</td>\n",
       "      <td>0.207698</td>\n",
       "      <td>0.52718</td>\n",
       "      <td>0.577889</td>\n",
       "      <td>0.250137</td>\n",
       "      <td>0.118465</td>\n",
       "      <td>[2022-04-26, 2022-06-28]</td>\n",
       "      <td>2.06327</td>\n",
       "      <td>1.60069</td>\n",
       "      <td>59</td>\n",
       "      <td>0.126694</td>\n",
       "      <td>[2022-02-11, 2022-03-15]</td>\n",
       "      <td>0</td>\n",
       "      <td>2022-11</td>\n",
       "      <td>0.687814</td>\n",
       "      <td>-0.95976</td>\n",
       "      <td>-1.33828</td>\n",
       "      <td>199</td>\n",
       "      <td>0.0329863</td>\n",
       "      <td>0.0234442</td>\n",
       "      <td>84</td>\n",
       "      <td>0.587413</td>\n",
       "    </tr>\n",
       "    <tr>\n",
       "      <th>0</th>\n",
       "      <td>[turnover_ratio, administration_expense]</td>\n",
       "      <td>101</td>\n",
       "      <td>-0.0821512</td>\n",
       "      <td>0.148243</td>\n",
       "      <td>0.0303036</td>\n",
       "      <td>-0.102096</td>\n",
       "      <td>-0.320062</td>\n",
       "      <td>0.00116027</td>\n",
       "      <td>109.722</td>\n",
       "      <td>0.0110163</td>\n",
       "      <td>-0.264393</td>\n",
       "      <td>0.207698</td>\n",
       "      <td>0.478805</td>\n",
       "      <td>0.567839</td>\n",
       "      <td>0.247744</td>\n",
       "      <td>0.121596</td>\n",
       "      <td>[2022-04-25, 2022-07-04]</td>\n",
       "      <td>1.81743</td>\n",
       "      <td>1.41273</td>\n",
       "      <td>46</td>\n",
       "      <td>0.141127</td>\n",
       "      <td>[2022-02-11, 2022-10-31]</td>\n",
       "      <td>0</td>\n",
       "      <td>2022-11</td>\n",
       "      <td>0.568952</td>\n",
       "      <td>-0.958531</td>\n",
       "      <td>-1.33898</td>\n",
       "      <td>199</td>\n",
       "      <td>0.0329863</td>\n",
       "      <td>0.0157058</td>\n",
       "      <td>76</td>\n",
       "      <td>0.622951</td>\n",
       "    </tr>\n",
       "    <tr>\n",
       "      <th>0</th>\n",
       "      <td>[market_cap, turnover_ratio, administration_ex...</td>\n",
       "      <td>101</td>\n",
       "      <td>-0.0890142</td>\n",
       "      <td>0.189611</td>\n",
       "      <td>0.108042</td>\n",
       "      <td>-0.110522</td>\n",
       "      <td>-0.320062</td>\n",
       "      <td>0.00110932</td>\n",
       "      <td>66.9492</td>\n",
       "      <td>-0.00359189</td>\n",
       "      <td>-0.264393</td>\n",
       "      <td>0.207698</td>\n",
       "      <td>0.718112</td>\n",
       "      <td>0.582915</td>\n",
       "      <td>0.238414</td>\n",
       "      <td>0.0633544</td>\n",
       "      <td>[2022-04-25, 2022-06-08]</td>\n",
       "      <td>2.04381</td>\n",
       "      <td>1.60077</td>\n",
       "      <td>68</td>\n",
       "      <td>0.169444</td>\n",
       "      <td>[2022-01-20, 2022-04-26]</td>\n",
       "      <td>0</td>\n",
       "      <td>2022-11</td>\n",
       "      <td>0.929653</td>\n",
       "      <td>-0.793845</td>\n",
       "      <td>-1.08557</td>\n",
       "      <td>199</td>\n",
       "      <td>0.0329863</td>\n",
       "      <td>0.0244105</td>\n",
       "      <td>61</td>\n",
       "      <td>0.472868</td>\n",
       "    </tr>\n",
       "    <tr>\n",
       "      <th>0</th>\n",
       "      <td>[administration_expense]</td>\n",
       "      <td>101</td>\n",
       "      <td>-0.0946581</td>\n",
       "      <td>0.16271</td>\n",
       "      <td>0.0229712</td>\n",
       "      <td>-0.117439</td>\n",
       "      <td>-0.320062</td>\n",
       "      <td>0.00109634</td>\n",
       "      <td>173.043</td>\n",
       "      <td>0.0255429</td>\n",
       "      <td>-0.264393</td>\n",
       "      <td>0.207698</td>\n",
       "      <td>0.501055</td>\n",
       "      <td>0.562814</td>\n",
       "      <td>0.230742</td>\n",
       "      <td>0.136828</td>\n",
       "      <td>[2022-04-26, 2022-07-14]</td>\n",
       "      <td>1.58803</td>\n",
       "      <td>1.24744</td>\n",
       "      <td>32</td>\n",
       "      <td>0.172789</td>\n",
       "      <td>[2022-02-11, 2022-10-31]</td>\n",
       "      <td>0</td>\n",
       "      <td>2022-11</td>\n",
       "      <td>0.853065</td>\n",
       "      <td>-0.967609</td>\n",
       "      <td>-1.37638</td>\n",
       "      <td>199</td>\n",
       "      <td>0.0329863</td>\n",
       "      <td>0.00511945</td>\n",
       "      <td>59</td>\n",
       "      <td>0.648352</td>\n",
       "    </tr>\n",
       "  </tbody>\n",
       "</table>\n",
       "</div>"
      ],
      "text/plain": [
       "                                             factors    ...    win_ratio\n",
       "0  [market_cap, pe_ratio, turnover_ratio, adminis...    ...     0.491228\n",
       "0                                   [turnover_ratio]    ...     0.587413\n",
       "0           [turnover_ratio, administration_expense]    ...     0.622951\n",
       "0  [market_cap, turnover_ratio, administration_ex...    ...     0.472868\n",
       "0                           [administration_expense]    ...     0.648352\n",
       "\n",
       "[5 rows x 32 columns]"
      ]
     },
     "execution_count": 91,
     "metadata": {},
     "output_type": "execute_result"
    }
   ],
   "source": [
    "result_sorted = result_df.sort_values('algorithm_return', ascending=False)\n",
    "result_sorted.head()"
   ]
  },
  {
   "cell_type": "code",
   "execution_count": 88,
   "metadata": {},
   "outputs": [
    {
     "data": {
      "image/png": "[encoded data removed]",
      "text/plain": [
       "<Figure size 720x432 with 1 Axes>"
      ]
     },
     "metadata": {
      "needs_background": "light"
     },
     "output_type": "display_data"
    }
   ],
   "source": [
    "top_factors = result_sorted.iloc[:10][['factors', 'algorithm_return', 'algorithm_volatility']]\n",
    "top_factors\n",
    "import matplotlib.pyplot as plt\n",
    "import seaborn as sns\n",
    "\n",
    "# Convert the 'factors' column to strings by joining the elements of the list\n",
    "top_factors['factors'] = top_factors['factors'].apply(lambda x: ', '.join(x)) # implicit fn\n",
    "\n",
    "# Plot the efficiency frontier\n",
    "plt.figure(figsize=(10, 6))\n",
    "sns.scatterplot(x='algorithm_volatility', y='algorithm_return', data=top_factors, hue='factors', s=100)\n",
    "\n",
    "# Add labels and title\n",
    "plt.xlabel('Algorithm Volatility')\n",
    "plt.ylabel('Algorithm Return')\n",
    "plt.title('Efficiency Frontier for Top Factors')\n",
    "\n",
    "# Show the plot\n",
    "plt.legend(title='Factors', bbox_to_anchor=(1.05, 1), loc='upper left')\n",
    "plt.grid(True)\n",
    "plt.tight_layout()\n",
    "plt.show()\n"
   ]
  },
  {
   "cell_type": "code",
   "execution_count": 89,
   "metadata": {},
   "outputs": [],
   "source": [
    "# From the plot, we find that turnover ratio being the most important factor in 2022, with the lowest volatility and highest return."
   ]
  },
  {
   "cell_type": "code",
   "execution_count": null,
   "metadata": {},
   "outputs": [],
   "source": []
  }
 ],
 "metadata": {
  "kernelspec": {
   "display_name": "Python 3",
   "language": "python",
   "name": "python3"
  },
  "language_info": {
   "codemirror_mode": {
    "name": "ipython",
    "version": 3
   },
   "file_extension": ".py",
   "mimetype": "text/x-python",
   "name": "python",
   "nbconvert_exporter": "python",
   "pygments_lexer": "ipython3",
   "version": "3.6.7"
  },
  "toc": {
   "base_numbering": 1,
   "nav_menu": {},
   "number_sections": false,
   "sideBar": true,
   "skip_h1_title": false,
   "title_cell": "MarkDown菜单",
   "title_sidebar": "Contents",
   "toc_cell": false,
   "toc_position": {},
   "toc_section_display": true,
   "toc_window_display": false
  }
 },
 "nbformat": 4,
 "nbformat_minor": 1
}
